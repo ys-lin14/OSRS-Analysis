{
 "cells": [
  {
   "cell_type": "code",
   "execution_count": 3,
   "metadata": {},
   "outputs": [],
   "source": [
    "import pandas as pd\n",
    "import numpy as np"
   ]
  },
  {
   "cell_type": "code",
   "execution_count": 23,
   "metadata": {},
   "outputs": [],
   "source": [
    "# return a trimmed copy of the dataframe\n",
    "def trim_df(df):\n",
    "    category_length = int(len(df) / 2)\n",
    "    df_copy= df.copy()\n",
    "    \n",
    "    trimmed_df = df_copy.iloc[:category_length, :2]\n",
    "    \n",
    "    return trimmed_df\n",
    "\n",
    "def get_p(df, weapon_type):\n",
    "    attack_multiplier = {   \"Event RPG\"   : 1.8, \n",
    "                          \"Iron Scimitar\" : 2.4 }\n",
    "    \n",
    "    p = df.loc['Exp Gained']\n",
    "    \n",
    "    print(p)\n",
    "    \n",
    "    return\n",
    "\n",
    "def combine_df(df1, df2):\n",
    "    category_length = len(df1) / 2\n",
    "    \n",
    "    df1_copy = df1.copy()\n",
    "    df2_copy = df2.copy()\n",
    "    \n",
    "    df1_copy[\"Weapon Type\"], df2_copy[\"Weapon Type\"] = np.zeros(len(df1)), np.zeros(len(df1))\n",
    "    df1_copy.iloc[:, 3] = \"Event RPG\"\n",
    "    df2_copy.iloc[:, 3] = \"Iron Scimitar\"\n",
    "    \n",
    "    combined_df = df1_copy.append(df2_copy)\n",
    "    \n",
    "    return combined_df  "
   ]
  },
  {
   "cell_type": "code",
   "execution_count": 5,
   "metadata": {},
   "outputs": [],
   "source": [
    "# load processed data\n",
    "processed_rpg_df = pd.read_csv(\"processed_rpg_data.csv\")\n",
    "processed_scim_df = pd.read_csv(\"processed_scim_data.csv\")"
   ]
  },
  {
   "cell_type": "code",
   "execution_count": 27,
   "metadata": {},
   "outputs": [
    {
     "data": {
      "text/plain": [
       "0        0.0\n",
       "1      268.0\n",
       "2      532.0\n",
       "3      792.0\n",
       "4     1032.0\n",
       "5     1244.0\n",
       "6     1480.0\n",
       "7     1692.0\n",
       "8     1984.0\n",
       "9     2264.0\n",
       "10    2532.0\n",
       "11    2764.0\n",
       "12    3048.0\n",
       "13    3308.0\n",
       "14    3560.0\n",
       "15    3792.0\n",
       "16    4044.0\n",
       "17    4308.0\n",
       "18    4564.0\n",
       "Name: Exp Gained, dtype: float64"
      ]
     },
     "execution_count": 27,
     "metadata": {},
     "output_type": "execute_result"
    }
   ],
   "source": [
    "# transform data \n",
    "rpg_df = trim_df(processed_rpg_df)\n",
    "scim_df = trim_df(processed_scim_df)\n",
    "\n",
    "rpg_df.loc[ : , \"Exp Gained\"]\n",
    "#rpg_df = get_p(rpg_df, \"Event RPG\")\n",
    "\n",
    "# combined_df = combine_df(processed_rpg_df, processed_scim_df)"
   ]
  },
  {
   "cell_type": "code",
   "execution_count": null,
   "metadata": {},
   "outputs": [],
   "source": [
    "# X ~ binomial(n, p)\n",
    "\n",
    "# Event RPG 1 attack every 1.8s\n",
    "# iron scimitar 2.4s"
   ]
  }
 ],
 "metadata": {
  "kernelspec": {
   "display_name": "Python 3",
   "language": "python",
   "name": "python3"
  },
  "language_info": {
   "codemirror_mode": {
    "name": "ipython",
    "version": 3
   },
   "file_extension": ".py",
   "mimetype": "text/x-python",
   "name": "python",
   "nbconvert_exporter": "python",
   "pygments_lexer": "ipython3",
   "version": "3.6.6"
  }
 },
 "nbformat": 4,
 "nbformat_minor": 2
}
