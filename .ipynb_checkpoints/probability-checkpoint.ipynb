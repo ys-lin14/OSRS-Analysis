{
 "cells": [
  {
   "cell_type": "code",
   "execution_count": 1,
   "metadata": {},
   "outputs": [],
   "source": [
    "import pandas as pd\n",
    "import numpy as np\n",
    "from scipy import stats\n",
    "import matplotlib.pyplot as plt\n",
    "import seaborn as sns\n",
    "import math"
   ]
  },
  {
   "cell_type": "code",
   "execution_count": 17,
   "metadata": {},
   "outputs": [],
   "source": [
    "# create a dataframe containing the successful number of hits, the sample size (n) and an estimator for p \n",
    "# where p is an estimate for the probability of hitting a 1 with either an Event RPG or Iron Scimitar\n",
    "def get_trimmed_df(df, weapon):\n",
    "    section_length = len(df) // 4\n",
    "    \n",
    "    d = {   \"Event RPG\"   : (0, section_length),\n",
    "          \"Iron Scimitar\" : (section_length * 2 + 1, section_length * 3) }\n",
    "    (a, b) = d[weapon]\n",
    "    \n",
    "    trimmed_df = df.iloc[a:b, :].drop(\"Exp Type\", axis = 1)\n",
    "    \n",
    "    return trimmed_df\n",
    "\n",
    "def get_probability_df(df, weapon):\n",
    "    attack_speed = {   \"Event RPG\"   : 1.8,  # Event RPG attacks once every 1.8s \n",
    "                     \"Iron Scimitar\" : 2.4 } # Iron Scimitar attacks once every 2.4s\n",
    "    \n",
    "    successful_attacks = df.loc[1:, \"Exp Gained\"].to_numpy() / 4\n",
    "    total_attacks = df.loc[1:, \"Time (min)\"].to_numpy() * 60 / attack_speed[weapon]\n",
    "    total_attacks = [math.floor(attacks) for attacks in total_attacks]\n",
    "    p = successful_attacks / total_attacks\n",
    "    \n",
    "    d = { \"Successful Attacks\" : successful_attacks,\n",
    "          \"Total Attacks\"      : total_attacks,\n",
    "          \"p\"                  : p }\n",
    "    \n",
    "    probability_df = pd.DataFrame(data = d)\n",
    "    probability_df[\"Weapon\"] = weapon\n",
    "    \n",
    "    return probability_df\n",
    "    \n",
    "# get the number of successful hits using weapon for all 10 minute intervals\n",
    "# based on the cumulative number of hits from df, return in numpy array\n",
    "def get_interval_hit_data(df, weapon):\n",
    "    section_length = len(df) // 2\n",
    "    \n",
    "    d = {   \"Event RPG\"   : df.iloc[:section_length, 0],\n",
    "          \"Iron Scimitar\" : df.iloc[section_length:, 0] }\n",
    "    \n",
    "    preprocessed_kde_data = [0]\n",
    "    preprocessed_kde_data.extend(d[weapon])\n",
    "    \n",
    "    kde_data = [preprocessed_kde_data[i] - preprocessed_kde_data[i - 1] for i in range(len(preprocessed_kde_data))]\n",
    "    kde_data.pop(0)\n",
    "    kde_data = np.array(kde_data) # convert to np array\n",
    "    \n",
    "    return kde_data\n",
    "\n",
    "# get the average number of successful hits per minute\n",
    "def get_mean_hit_rate(interval_hit_data):\n",
    "    mean = np.mean(interval_hit_data)\n",
    "    reduced_mean = mean // 10\n",
    "    \n",
    "    return reduced_mean\n",
    "\n",
    "def get_probability_parameters(df, weapon):\n",
    "    df_length = len(df)\n",
    "    \n",
    "    row = {   \"Event RPG\"   : df_length // 2 - 1,\n",
    "            \"Iron Scimitar\" : df_length - 1 }\n",
    "    \n",
    "    n, p = df.iloc[row[weapon], 1], round(combined_probability_df.iloc[row[weapon], 2], 6)\n",
    "    \n",
    "    return n, p\n",
    "\n",
    "# displays binomial probability parameters λ, n and p for weapon\n",
    "def display_parameters(n, p, λ, weapon):\n",
    "    print(\"---\", weapon, \"---\")\n",
    "    print(\"n:\", n)\n",
    "    print(\"p:\", p)\n",
    "    print(\"λ:\", λ)\n",
    "    \n",
    "# calculate the pooled test statistic for two distributions with sample \n",
    "# sizes n1 and n2 along with success probabilities p1 and p2\n",
    "def get_pooled_test_statistic(n1, n2, p1, p2):\n",
    "    p = (((n1) * (p1)) + ((n2) * (p2))) / (n1 + n2)\n",
    "    sigma = math.sqrt(p * (1 - p) * ((1 / n1) + (1 / n2)))\n",
    "    \n",
    "    \n",
    "    z  = (p1 - p2) / sigma if (p1 > p2) else ((p2 - p1) / sigma)\n",
    "    rounded_z = round(z, 6)\n",
    "    \n",
    "    return rounded_z"
   ]
  },
  {
   "cell_type": "code",
   "execution_count": 3,
   "metadata": {},
   "outputs": [],
   "source": [
    "# load data\n",
    "combined_df = pd.read_csv(\"data/combined_data.csv\")"
   ]
  },
  {
   "cell_type": "code",
   "execution_count": 4,
   "metadata": {},
   "outputs": [],
   "source": [
    "# transform data \n",
    "trimmed_rpg_df = get_trimmed_df(combined_df, \"Event RPG\")\n",
    "trimmed_scim_df = get_trimmed_df(combined_df, \"Iron Scimitar\")\n",
    "\n",
    "# calculate and add the probabilities of hitting a 1 to the dataframes\n",
    "rpg_probability_df = get_probability_df(trimmed_rpg_df, \"Event RPG\")\n",
    "scim_probability_df = get_probability_df(trimmed_scim_df, \"Iron Scimitar\")\n",
    "\n",
    "# transform data for visualization\n",
    "combined_probability_df = rpg_probability_df.append(scim_probability_df)"
   ]
  },
  {
   "cell_type": "code",
   "execution_count": 5,
   "metadata": {},
   "outputs": [],
   "source": [
    "# write processed data to csv\n",
    "combined_probability_df.to_csv(\"data/combined_probability_data.csv\", index = False)"
   ]
  },
  {
   "cell_type": "code",
   "execution_count": 6,
   "metadata": {},
   "outputs": [],
   "source": [
    "# load processed data\n",
    "combined_probability_df = pd.read_csv(\"data/combined_probability_data.csv\")"
   ]
  },
  {
   "cell_type": "code",
   "execution_count": 7,
   "metadata": {},
   "outputs": [
    {
     "data": {
      "image/png": "[encoded data removed]",
      "text/plain": [
       "<Figure size 459.75x360 with 1 Axes>"
      ]
     },
     "metadata": {
      "needs_background": "light"
     },
     "output_type": "display_data"
    }
   ],
   "source": [
    "# visualize trend of success probability p as sample size n increases \n",
    "successful_hits_scatter = sns.relplot(x = \"Total Attacks\" ,\n",
    "                                      y = \"p\",\n",
    "                                      hue = \"Weapon\",\n",
    "                                      data = combined_probability_df)\n",
    "\n",
    "successful_hits_scatter.set(title = \"Figure 1 - Success Probability Estimates\",\n",
    "                            xlabel = \"Total Attacks\",\n",
    "                            ylabel = \"Probability of a Successful Hit\")\n",
    "plt.xlim(5, None)\n",
    "plt.ylim(0.15, 0.3)\n",
    "\n",
    "plt.show()"
   ]
  },
  {
   "cell_type": "code",
   "execution_count": 8,
   "metadata": {},
   "outputs": [],
   "source": [
    "# get the number of successful hits for every 10 minute interval\n",
    "rpg_interval_hit_data = get_interval_hit_data(combined_probability_df, \"Event RPG\")\n",
    "scim_interval_hit_data = get_interval_hit_data(combined_probability_df, \"Iron Scimitar\")\n",
    "\n",
    "# probability of successful hits for every individual 10 minute interval\n",
    "rpg_hit_probability_data = rpg_interval_hit_data / 333\n",
    "scim_hit_probability_data = scim_interval_hit_data / 250"
   ]
  },
  {
   "cell_type": "code",
   "execution_count": 3,
   "metadata": {
    "scrolled": true
   },
   "outputs": [
    {
     "ename": "NameError",
     "evalue": "name 'plt' is not defined",
     "output_type": "error",
     "traceback": [
      "\u001b[1;31m---------------------------------------------------------------------------\u001b[0m",
      "\u001b[1;31mNameError\u001b[0m                                 Traceback (most recent call last)",
      "\u001b[1;32m<ipython-input-3-66bdb0f2c862>\u001b[0m in \u001b[0;36m<module>\u001b[1;34m\u001b[0m\n\u001b[0;32m      1\u001b[0m \u001b[1;31m# kde for the number and probability of successful hits per 10 minutes\u001b[0m\u001b[1;33m\u001b[0m\u001b[1;33m\u001b[0m\u001b[0m\n\u001b[1;32m----> 2\u001b[1;33m \u001b[0mfig\u001b[0m\u001b[1;33m,\u001b[0m \u001b[1;33m(\u001b[0m\u001b[0max1\u001b[0m\u001b[1;33m,\u001b[0m \u001b[0max2\u001b[0m\u001b[1;33m)\u001b[0m \u001b[1;33m=\u001b[0m \u001b[0mplt\u001b[0m\u001b[1;33m.\u001b[0m\u001b[0msubplots\u001b[0m\u001b[1;33m(\u001b[0m\u001b[0mncols\u001b[0m \u001b[1;33m=\u001b[0m \u001b[1;36m2\u001b[0m\u001b[1;33m,\u001b[0m \u001b[0mfigsize\u001b[0m \u001b[1;33m=\u001b[0m \u001b[1;33m(\u001b[0m\u001b[1;36m12\u001b[0m\u001b[1;33m,\u001b[0m \u001b[1;36m4\u001b[0m\u001b[1;33m)\u001b[0m\u001b[1;33m)\u001b[0m\u001b[1;33m\u001b[0m\u001b[0m\n\u001b[0m\u001b[0;32m      3\u001b[0m \u001b[1;33m\u001b[0m\u001b[0m\n\u001b[0;32m      4\u001b[0m \u001b[0mcombined_hit_probability_kde\u001b[0m \u001b[1;33m=\u001b[0m \u001b[0msns\u001b[0m\u001b[1;33m.\u001b[0m\u001b[0mkdeplot\u001b[0m\u001b[1;33m(\u001b[0m\u001b[0mrpg_hit_probability_data\u001b[0m\u001b[1;33m,\u001b[0m \u001b[0mlabel\u001b[0m \u001b[1;33m=\u001b[0m \u001b[1;34m\"Event RPG\"\u001b[0m\u001b[1;33m,\u001b[0m \u001b[0max\u001b[0m \u001b[1;33m=\u001b[0m \u001b[0max1\u001b[0m\u001b[1;33m)\u001b[0m\u001b[1;33m\u001b[0m\u001b[0m\n\u001b[0;32m      5\u001b[0m \u001b[0mcombined_hit_probability_kde\u001b[0m \u001b[1;33m=\u001b[0m \u001b[0msns\u001b[0m\u001b[1;33m.\u001b[0m\u001b[0mkdeplot\u001b[0m\u001b[1;33m(\u001b[0m\u001b[0mscim_hit_probability_data\u001b[0m\u001b[1;33m,\u001b[0m \u001b[0mlabel\u001b[0m \u001b[1;33m=\u001b[0m \u001b[1;34m\"Iron Scimitar\"\u001b[0m\u001b[1;33m,\u001b[0m \u001b[0max\u001b[0m \u001b[1;33m=\u001b[0m \u001b[0max1\u001b[0m\u001b[1;33m)\u001b[0m\u001b[1;33m\u001b[0m\u001b[0m\n",
      "\u001b[1;31mNameError\u001b[0m: name 'plt' is not defined"
     ]
    }
   ],
   "source": [
    "# kde for the number and probability of successful hits per 10 minutes\n",
    "fig, (ax1, ax2) = plt.subplots(ncols = 2, figsize = (12, 4))\n",
    "\n",
    "combined_hit_probability_kde = sns.kdeplot(rpg_hit_probability_data, label = \"Event RPG\", ax = ax1)\n",
    "combined_hit_probability_kde = sns.kdeplot(scim_hit_probability_data, label = \"Iron Scimitar\", ax = ax1)\n",
    "\n",
    "combined_hit_probability_kde.set(title = \"Figure 2 - Hit Probability KDE\",\n",
    "                 xlabel = \"Successful Hits Relative to the Total Number of Hits\",\n",
    "                 ylabel = \"Density\")\n",
    "\n",
    "combined_interval_hit_kde = sns.kdeplot(rpg_interval_hit_data, label = \"Event RPG\", ax = ax2)\n",
    "combined_interval_hit_kde = sns.kdeplot(scim_interval_hit_data, label = \"Iron Scimitar\", ax = ax2)\n",
    "\n",
    "combined_interval_hit_kde.set(title = \"Figure 3 - Successful Hit Rate KDE\",\n",
    "                 xlabel = \"Successful Hits per 10 Minutes\",\n",
    "                 ylabel = \"Density\")\n",
    "\n",
    "plt.show()"
   ]
  },
  {
   "cell_type": "markdown",
   "metadata": {},
   "source": [
    "Figure 2 suggests that the Iron Scimitar is more accurate than the Event RPG while Figure 3 suggests that training with the Event RPG typically results in more successful hits every 10 minutes. This implies that attack speed results in higher experience rates when compared to attack bonuses.\n",
    "<br>\n",
    "\n",
    "Having observed differences between the Event RPG and Iron Scimitar in both the linear regression and the kernel density estimates I now set out to determine whether or not the difference is statistically significant through hypothesis testing."
   ]
  },
  {
   "cell_type": "code",
   "execution_count": 10,
   "metadata": {},
   "outputs": [
    {
     "name": "stdout",
     "output_type": "stream",
     "text": [
      "--- Event RPG ---\n",
      "n: 6000\n",
      "p: 0.190167\n",
      "λ: 6.0\n"
     ]
    }
   ],
   "source": [
    "# get and display the mean number of successful attacks per minute (λ), the total number of attacks (n) \n",
    "# along with success probability estimate (p) for the Event RPG\n",
    "rpg_λ = get_mean_hit_rate(rpg_interval_hit_data)\n",
    "\n",
    "rpg_probability_parameters = get_probability_parameters(combined_probability_df, \"Event RPG\")\n",
    "rpg_n, rpg_p = rpg_probability_parameters[0], rpg_probability_parameters[1]\n",
    "\n",
    "display_parameters(rpg_n, rpg_p, rpg_λ, \"Event RPG\")"
   ]
  },
  {
   "cell_type": "code",
   "execution_count": 11,
   "metadata": {
    "scrolled": true
   },
   "outputs": [
    {
     "name": "stdout",
     "output_type": "stream",
     "text": [
      "--- Iron Scimitar ---\n",
      "n: 4500\n",
      "p: 0.214889\n",
      "λ: 5.0\n"
     ]
    }
   ],
   "source": [
    "scim_λ = get_mean_hit_rate(scim_interval_hit_data)\n",
    "\n",
    "scim_probability_parameters = get_probability_parameters(combined_probability_df, \"Iron Scimitar\")\n",
    "scim_n, scim_p = scim_probability_parameters[0], scim_probability_parameters[1]\n",
    "\n",
    "display_parameters(scim_n, scim_p, scim_λ, \"Iron Scimitar\")"
   ]
  },
  {
   "cell_type": "markdown",
   "metadata": {},
   "source": [
    "Having obtained the parameters for the Event RPG and Iron Scimitar, I proceed to use the p's to construct binomial distributions and formulate hypotheses regarding whether or not attack bonuses affect the probability of a successful hit.\n",
    "\n",
    "<br>\n",
    "\n",
    "<center>\n",
    "Letting $R_{b}$ and $S_{b}$ denote the number of successful hits per minute using the Event RPG and Iron Scimitar respectively,\n",
    "</center>\n",
    "\n",
    "<center> \n",
    "    <i> $R_{b}$ ~ binomial ( $n_{1}$, $p_{1}$) </i> and <i> $S_{b}$ ~ binomial ( $n_{2}$, $p_{2}$) </i> \n",
    "    where $p_{1}$ = 0.190167 and $p_{2}$ = 0.214889\n",
    "</center>\n",
    "<br>\n",
    "\n",
    "<center>\n",
    "    Hypotheses:\n",
    "    <br>\n",
    "    $H_{0}$: $p_{1}$ = $p_{2}$\n",
    "    <br>\n",
    "    $H_{1}$: $p_{1}$ ≠ $p_{2}$\n",
    "</center>\n",
    "\n",
    "<br>\n",
    "Using a significance level of 0.05, I will reject the null hypothesis if the test statistic falls in the rejection region or, in other words, if there is less than a 5% chance of observing similar results. In terms of pooled test statistic $z_{t}$, the two statements can be expressed as $z_{t} > 1.96$ and $2P(Z > z_{t}) < 0.05$.\n"
   ]
  },
  {
   "cell_type": "code",
   "execution_count": 19,
   "metadata": {},
   "outputs": [
    {
     "name": "stdout",
     "output_type": "stream",
     "text": [
      "3.129622\n"
     ]
    }
   ],
   "source": [
    "# standard normal with two tails to visualize 2P(Z > z_test) < 0.05 or z_test > z_alpha \n",
    "\n",
    "z_test = get_pooled_test_statistic(rpg_n, scim_n, rpg_p, scim_p)\n",
    "print(z_test)"
   ]
  },
  {
   "cell_type": "markdown",
   "metadata": {},
   "source": [
    "\n",
    "\n",
    "<center> \n",
    "    <i> $R_{p}$ ~ Poisson ( $λ_{1}$) </i> and <i> $S_{p}$ ~ Poisson ( $λ_{2}$) </i> \n",
    "    where $λ_{1}$ = 6 and $λ_{2}$ = 5\n",
    "</center>\n",
    "<br>\n",
    "<center>\n",
    "    Hypotheses:\n",
    "    <br>\n",
    "    $H_{0}$: $λ_{1}$ <u> <</u> $λ_{2}$\n",
    "    <br>\n",
    "    $H_{1}$: $λ_{1}$ > $λ_{2}$\n",
    "</center>"
   ]
  }
 ],
 "metadata": {
  "kernelspec": {
   "display_name": "Python 3",
   "language": "python",
   "name": "python3"
  },
  "language_info": {
   "codemirror_mode": {
    "name": "ipython",
    "version": 3
   },
   "file_extension": ".py",
   "mimetype": "text/x-python",
   "name": "python",
   "nbconvert_exporter": "python",
   "pygments_lexer": "ipython3",
   "version": "3.6.6"
  }
 },
 "nbformat": 4,
 "nbformat_minor": 2
}
