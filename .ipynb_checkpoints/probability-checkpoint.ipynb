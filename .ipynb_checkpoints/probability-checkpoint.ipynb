{
 "cells": [
  {
   "cell_type": "code",
   "execution_count": 1,
   "metadata": {},
   "outputs": [],
   "source": [
    "import pandas as pd\n",
    "import numpy as np\n",
    "import math\n",
    "import matplotlib.pyplot as plt\n",
    "import seaborn as sns"
   ]
  },
  {
   "cell_type": "code",
   "execution_count": 2,
   "metadata": {},
   "outputs": [],
   "source": [
    "# return a trimmed copy of the dataframe containing only the defence exp data\n",
    "def trim_df(df):\n",
    "    category_length = int(len(df) / 2)\n",
    "    df_copy= df.copy()\n",
    "    \n",
    "    trimmed_df = df_copy.iloc[:category_length, :2]\n",
    "    \n",
    "    return trimmed_df\n",
    "\n",
    "# calculate 'p' - the probability of hitting a 1 with either an Event RPG or Iron Scimitar\n",
    "def calculate_p(df, weapon_type):\n",
    "    attack_speed = {   \"Event RPG\"   : 1.8,  # 1.8s between Event RPG attacks\n",
    "                     \"Iron Scimitar\" : 2.4 } # 2.4s between Iron Scimitar attacks\n",
    "    p_success = np.zeros(len(df))\n",
    "    df['n'] = np.zeros(len(df)) #initialize 'n' total attacks\n",
    "    \n",
    "    hits = df.loc[1:, \"Exp Gained\"].to_numpy() / 4\n",
    "    total_attacks = df.loc[1:, \"Time (min)\"].to_numpy() * 60 / attack_speed[weapon_type]\n",
    "    total_attacks = [math.floor(n) for n in total_attacks]\n",
    "    \n",
    "    p_success[1:] = hits / total_attacks\n",
    "    \n",
    "    df['p'] = p_success\n",
    "    df.loc[1:, 'n'] = total_attacks\n",
    "    \n",
    "    return df\n",
    "\n",
    "def combine_df(df1, df2):\n",
    "    df1_copy = df1.copy()\n",
    "    df2_copy = df2.copy()\n",
    "    \n",
    "    df1_copy[\"Weapon Type\"], df2_copy[\"Weapon Type\"] = np.zeros(len(df1)), np.zeros(len(df1))\n",
    "    df1_copy.loc[:, \"Weapon Type\"] = \"Event RPG\"\n",
    "    df2_copy.loc[:, \"Weapon Type\"] = \"Iron Scimitar\"\n",
    "    \n",
    "    combined_df = df1_copy.append(df2_copy)\n",
    "    \n",
    "    return combined_df  "
   ]
  },
  {
   "cell_type": "code",
   "execution_count": 3,
   "metadata": {},
   "outputs": [],
   "source": [
    "# load processed data\n",
    "processed_rpg_df = pd.read_csv(\"processed_rpg_data.csv\")\n",
    "processed_scim_df = pd.read_csv(\"processed_scim_data.csv\")"
   ]
  },
  {
   "cell_type": "code",
   "execution_count": 6,
   "metadata": {},
   "outputs": [],
   "source": [
    "# transform data \n",
    "trimmed_rpg_df = trim_df(processed_rpg_df)\n",
    "trimmed_scim_df = trim_df(processed_scim_df)\n",
    "\n",
    "# calculate probabilities of hitting a 1 \n",
    "trimmed_rpg_df = calculate_p(trimmed_rpg_df, \"Event RPG\")\n",
    "trimmed_scim_df = calculate_p(trimmed_scim_df, \"Iron Scimitar\")\n",
    "\n",
    "# transform data for visualization\n",
    "combined_probability_df = combine_df(trimmed_rpg_df, trimmed_scim_df)"
   ]
  },
  {
   "cell_type": "code",
   "execution_count": 5,
   "metadata": {},
   "outputs": [
    {
     "data": {
      "image/png": "[encoded data removed]",
      "text/plain": [
       "<Figure size 464.109x360 with 1 Axes>"
      ]
     },
     "metadata": {
      "needs_background": "light"
     },
     "output_type": "display_data"
    }
   ],
   "source": [
    "# visualize trend of p as sample size n increases \n",
    "success_scatter = sns.relplot(x = \"n\" ,\n",
    "                              y = \"p\",\n",
    "                              hue = \"Weapon Type\",\n",
    "                              data = combined_probability_df)\n",
    "\n",
    "success_scatter.set(xlabel = \"Total Attacks\",\n",
    "                    ylabel = \"Probability of a Successful Hit\")\n",
    "\n",
    "plt.xlim(5, None)\n",
    "plt.show()"
   ]
  }
 ],
 "metadata": {
  "kernelspec": {
   "display_name": "Python 3",
   "language": "python",
   "name": "python3"
  },
  "language_info": {
   "codemirror_mode": {
    "name": "ipython",
    "version": 3
   },
   "file_extension": ".py",
   "mimetype": "text/x-python",
   "name": "python",
   "nbconvert_exporter": "python",
   "pygments_lexer": "ipython3",
   "version": "3.6.6"
  }
 },
 "nbformat": 4,
 "nbformat_minor": 2
}
