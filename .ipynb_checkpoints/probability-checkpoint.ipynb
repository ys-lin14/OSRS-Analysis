{
 "cells": [
  {
   "cell_type": "code",
   "execution_count": 1,
   "metadata": {},
   "outputs": [],
   "source": [
    "import pandas as pd\n",
    "import numpy as np\n",
    "import math\n",
    "import matplotlib.pyplot as plt\n",
    "import seaborn as sns"
   ]
  },
  {
   "cell_type": "code",
   "execution_count": 14,
   "metadata": {},
   "outputs": [],
   "source": [
    "# return a trimmed copy of the dataframe containing only the defence exp data\n",
    "def trim_df(df):\n",
    "    category_length = len(df) // 2\n",
    "    df_copy= df.copy()\n",
    "    \n",
    "    trimmed_df = df_copy.iloc[:category_length, :2]\n",
    "    \n",
    "    return trimmed_df\n",
    "\n",
    "# create a dataframe containing the successful number of hits, the sample size (n) and an estimator for p (p_hat)\n",
    "# where p_hat is an estimate for the probability of hitting a 1 with either an Event RPG or Iron Scimitar\n",
    "def get_probability_df(df, weapon_type):\n",
    "    attack_speed = {   \"Event RPG\"   : 1.8,  # Event RPG attacks once every 1.8s \n",
    "                     \"Iron Scimitar\" : 2.4 } # Iron Scimitar attacks once every 2.4s\n",
    "    #df_length = len(df)\n",
    "    \n",
    "    #p_hat = np.zeros(df_length - 1)\n",
    "    #df[\"Successful Hits\"] = np.zeros(df_length)\n",
    "    #df['n'] = np.zeros(df_length) #initialize 'n' total attacks\n",
    "    \n",
    "    successful_attacks = df.loc[1:, \"Exp Gained\"].to_numpy() / 4\n",
    "    total_attacks = df.loc[1:, \"Time (min)\"].to_numpy() * 60 / attack_speed[weapon_type]\n",
    "    total_attacks = [math.floor(attacks) for attacks in total_attacks]\n",
    "    p_hat = successful_attacks / total_attacks\n",
    "    \n",
    "    d = { \"Successful Attacks\" : successful_attacks,\n",
    "          \"Total Attacks\"      : total_attacks,\n",
    "          \"p hat\"              : p_hat }\n",
    "    \n",
    "    probability_df = pd.DataFrame(data = d)\n",
    "    \n",
    "    return probability_df\n",
    "\n",
    "def combine_df(df1, df2):\n",
    "    df1_copy = df1.copy()\n",
    "    df2_copy = df2.copy()\n",
    "    \n",
    "    df1_copy[\"Weapon Type\"], df2_copy[\"Weapon Type\"] = np.zeros(len(df1)), np.zeros(len(df1))\n",
    "    df1_copy.loc[:, \"Weapon Type\"] = \"Event RPG\"\n",
    "    df2_copy.loc[:, \"Weapon Type\"] = \"Iron Scimitar\"\n",
    "    \n",
    "    combined_df = df1_copy.append(df2_copy)\n",
    "    \n",
    "    return combined_df  "
   ]
  },
  {
   "cell_type": "code",
   "execution_count": 3,
   "metadata": {},
   "outputs": [],
   "source": [
    "# load processed data\n",
    "processed_rpg_df = pd.read_csv(\"data/processed_rpg_data.csv\")\n",
    "processed_scim_df = pd.read_csv(\"data/processed_scim_data.csv\")"
   ]
  },
  {
   "cell_type": "code",
   "execution_count": 19,
   "metadata": {},
   "outputs": [],
   "source": [
    "# transform data \n",
    "trimmed_rpg_df = trim_df(processed_rpg_df)\n",
    "trimmed_scim_df = trim_df(processed_scim_df)\n",
    "\n",
    "# calculate and add the probabilities of hitting a 1 to the dataframes\n",
    "rpg_probability_df = get_probability_df(trimmed_rpg_df, \"Event RPG\")\n",
    "scim_probability_df = get_probability_df(trimmed_scim_df, \"Iron Scimitar\")\n",
    "\n",
    "# transform data for visualization\n",
    "combined_df = combine_df(rpg_probability_df, scim_probability_df)\n",
    "combined_df_length = int(len(combined_df))"
   ]
  },
  {
   "cell_type": "code",
   "execution_count": 16,
   "metadata": {},
   "outputs": [
    {
     "name": "stdout",
     "output_type": "stream",
     "text": [
      "--- Event RPG --- \n",
      "    n: 6000\n",
      "p_hat: 0.190167\n",
      "    q: 0.809833\n"
     ]
    }
   ],
   "source": [
    "# Event RPG sample size, p estimator and q\n",
    "rpg_row = combined_df_length // 2 - 1\n",
    "rpg_n, rpg_p_hat = combined_df.iloc[rpg_row, 1], combined_df.iloc[rpg_row, 2]\n",
    "rpg_p_hat = round(rpg_p_hat, 6)\n",
    "rpg_q = 1 - rpg_p_hat\n",
    "\n",
    "print(\"--- Event RPG --- \")\n",
    "print(\"    n:\", rpg_n)\n",
    "print(\"p_hat:\", rpg_p_hat)\n",
    "print(\"    q:\", rpg_q)"
   ]
  },
  {
   "cell_type": "code",
   "execution_count": 17,
   "metadata": {},
   "outputs": [
    {
     "name": "stdout",
     "output_type": "stream",
     "text": [
      "--- Iron Scimitar --- \n",
      "    n: 4500\n",
      "p_hat: 0.214889\n",
      "    q: 0.785111\n"
     ]
    }
   ],
   "source": [
    "# Iron Scimitar sample size, p estimator and q\n",
    "scim_row = combined_df_length - 1\n",
    "scim_n, scim_p_hat = combined_df.iloc[scim_row, 1], combined_df.iloc[scim_row, 2]\n",
    "scim_p_hat = round(scim_p_hat, 6)\n",
    "scim_q = 1 - scim_p_hat\n",
    "\n",
    "print(\"--- Iron Scimitar --- \")\n",
    "print(\"    n:\", scim_n)\n",
    "print(\"p_hat:\", scim_p_hat)\n",
    "print(\"    q:\", scim_q)"
   ]
  },
  {
   "cell_type": "code",
   "execution_count": 18,
   "metadata": {},
   "outputs": [
    {
     "data": {
      "image/png": "[encoded data removed]",
      "text/plain": [
       "<Figure size 464.109x360 with 1 Axes>"
      ]
     },
     "metadata": {
      "needs_background": "light"
     },
     "output_type": "display_data"
    }
   ],
   "source": [
    "# visualize trend of p_hat as sample size n increases \n",
    "success_scatter = sns.relplot(x = \"Total Attacks\" ,\n",
    "                              y = \"p hat\",\n",
    "                              hue = \"Weapon Type\",\n",
    "                              data = combined_df)\n",
    "\n",
    "success_scatter.set(xlabel = \"Total Attacks\",\n",
    "                    ylabel = \"Probability of a Successful Hit\")\n",
    "\n",
    "plt.xlim(5, None)\n",
    "plt.show()"
   ]
  }
 ],
 "metadata": {
  "kernelspec": {
   "display_name": "Python 3",
   "language": "python",
   "name": "python3"
  },
  "language_info": {
   "codemirror_mode": {
    "name": "ipython",
    "version": 3
   },
   "file_extension": ".py",
   "mimetype": "text/x-python",
   "name": "python",
   "nbconvert_exporter": "python",
   "pygments_lexer": "ipython3",
   "version": "3.6.6"
  }
 },
 "nbformat": 4,
 "nbformat_minor": 2
}
