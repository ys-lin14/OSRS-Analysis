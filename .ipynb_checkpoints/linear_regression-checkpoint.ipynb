{
 "cells": [
  {
   "cell_type": "code",
   "execution_count": 1,
   "metadata": {},
   "outputs": [],
   "source": [
    "import pandas as pd\n",
    "import numpy as np\n",
    "import matplotlib.pyplot as plt\n",
    "import seaborn as sns\n",
    "from scipy import stats"
   ]
  },
  {
   "cell_type": "code",
   "execution_count": 9,
   "metadata": {},
   "outputs": [],
   "source": [
    "# linear regression using ordinary least squares \n",
    "def linear_regression(X_in, Y):  \n",
    "    X = np.ones((len(X_in), 2), np.uint64)\n",
    "    X[:, 1] = X_in\n",
    "    Xt = X.transpose()\n",
    "    \n",
    "    # compute beta = (X^t . X)^-1 . X^t . Y\n",
    "    coefficients = ((np.linalg.inv(Xt.dot(X))).dot(Xt)).dot(Y)\n",
    "    coefficients[0], coefficients[1] = coefficients[1], coefficients[0]\n",
    "    \n",
    "    return coefficients\n",
    "\n",
    "# format defence and hitpoint experience\n",
    "def process_df(df):\n",
    "    exp_type = np.zeros(len(df))\n",
    "    \n",
    "    d1 = { \"Time (min)\" : df[\"Time (min)\"],\n",
    "           \"Exp Gained\" : df[\"Def Exp Gained\"],\n",
    "           \"Exp Type\"   : exp_type } # initialize exp type column\n",
    "    defence_df = pd.DataFrame(data = d1)\n",
    "    defence_df.iloc[:, 2] = \"defence\" # declare exp type column\n",
    "\n",
    "    d2 = { \"Time (min)\" : df[\"Time (min)\"],\n",
    "           \"Exp Gained\" : df[\"HP Exp Gained\"],\n",
    "           \"Exp Type\"   : exp_type }\n",
    "    hitpoint_df = pd.DataFrame(data = d2)\n",
    "    hitpoint_df.iloc[:, 2] = \"hitpoint\"\n",
    "\n",
    "    processed_df = defence_df.append(hitpoint_df)\n",
    "\n",
    "    return processed_df\n",
    "\n",
    "# return the Y values needed for linear regression \n",
    "def get_linreg_Y(df):\n",
    "    category_length = len(df) / 2\n",
    "    Y = df.iloc[category_length:, 1].values\n",
    "    \n",
    "    return Y\n",
    "\n",
    "# combine the Event RPG and Iron Scimitar experience data together for graphing\n",
    "def combine_df(df1, df2):\n",
    "    category_length = len(df1) / 2\n",
    "    \n",
    "    df1_copy = df1.copy()\n",
    "    df2_copy = df2.copy()\n",
    "    \n",
    "    df1_copy[\"Weapon Type\"], df2_copy[\"Weapon Type\"] = np.zeros(len(df1)), np.zeros(len(df1))\n",
    "    df1_copy.iloc[:, 3] = \"Event RPG\"\n",
    "    df2_copy.iloc[:, 3] = \"Iron Scimitar\"\n",
    "    \n",
    "    combined_df = df1_copy.append(df2_copy)\n",
    "    \n",
    "    return combined_df  \n",
    "\n",
    "# calculate the number of hours required to reach final_exp given the initial_exp and coefficients\n",
    "def extrapolate_time(initial_exp, final_exp, coefficients):\n",
    "    exp_required = final_exp - initial_exp\n",
    "    \n",
    "    time = (exp_required - coefficients[1]) / coefficients[0] / 60\n",
    "    \n",
    "    return time"
   ]
  },
  {
   "cell_type": "code",
   "execution_count": null,
   "metadata": {},
   "outputs": [],
   "source": [
    "# load preprocessed data\n",
    "rpg_df = pd.read_csv(\"rpg_data.csv\")\n",
    "scim_df = pd.read_csv(\"scim_data.csv\")"
   ]
  },
  {
   "cell_type": "code",
   "execution_count": null,
   "metadata": {},
   "outputs": [],
   "source": [
    "# process data\n",
    "processed_rpg_df = process_df(rpg_df)\n",
    "processed_scim_df = process_df(scim_df)"
   ]
  },
  {
   "cell_type": "code",
   "execution_count": null,
   "metadata": {},
   "outputs": [],
   "source": [
    "# write processed data to csv\n",
    "processed_rpg_df.to_csv(\"processed_rpg_data.csv\", index = False)\n",
    "processed_scim_df.to_csv(\"processed_scim_data.csv\", index = False)"
   ]
  },
  {
   "cell_type": "code",
   "execution_count": 3,
   "metadata": {},
   "outputs": [],
   "source": [
    "# load processed data (skip loading, processing and writing preprocessed data)\n",
    "processed_rpg_df = pd.read_csv(\"processed_rpg_data.csv\")\n",
    "processed_scim_df = pd.read_csv(\"processed_scim_data.csv\")"
   ]
  },
  {
   "cell_type": "code",
   "execution_count": 4,
   "metadata": {},
   "outputs": [],
   "source": [
    "# format inputs for linear regression and visualization\n",
    "category_length = int(len(processed_rpg_df) / 2)\n",
    "time = np.arange(0, 190, 10)\n",
    "\n",
    "rpg_defence_exp, rpg_hitpoint_exp = processed_rpg_df.iloc[:category_length, 1], processed_rpg_df.iloc[category_length:, 1]\n",
    "scim_defence_exp, scim_hitpoint_exp = processed_scim_df.iloc[:category_length, 1], processed_scim_df.iloc[category_length:, 1]\n",
    "\n",
    "combined_df = combine_df(processed_rpg_df, processed_scim_df)"
   ]
  },
  {
   "cell_type": "code",
   "execution_count": 5,
   "metadata": {},
   "outputs": [
    {
     "name": "stdout",
     "output_type": "stream",
     "text": [
      "--- Event RPG ---\n",
      "Defence EXP\n",
      "Slope and x-intercept using matricies:  [25.31087719 -3.87368421]\n",
      "Slope and x-intercept using SciPy stats:  (25.310877192982453, -3.873684210526335)\n",
      "\n",
      "Hitpoint EXP\n",
      "Slope and x-intercept using matricies:  [ 8.41586667 -1.288     ]\n",
      "Slope and x-intercept using SciPy stats:  (8.415866666666666, -1.2879999999998972)\n"
     ]
    }
   ],
   "source": [
    "# linear regression coefficients for the Event RPG\n",
    "print(\"--- Event RPG ---\")\n",
    "rpg_defence_coeffs = linear_regression(time, rpg_defence_exp.values)\n",
    "rpg_defence_stats_coeffs = stats.linregress(time, rpg_defence_exp.values)\n",
    "print(\"Defence EXP\")\n",
    "print(\"Slope and x-intercept using matricies: \", rpg_defence_coeffs)\n",
    "print(\"Slope and x-intercept using SciPy stats: \", rpg_defence_stats_coeffs[0:2])\n",
    "\n",
    "rpg_hitpoint_coeffs = linear_regression(time, rpg_hitpoint_exp.values)\n",
    "rpg_hitpoint_stats_coeffs = stats.linregress(time, rpg_hitpoint_exp.values)\n",
    "print(\"\\nHitpoint EXP\")\n",
    "print(\"Slope and x-intercept using matricies: \", rpg_hitpoint_coeffs)\n",
    "print(\"Slope and x-intercept using SciPy stats: \", rpg_hitpoint_stats_coeffs[0:2])"
   ]
  },
  {
   "cell_type": "code",
   "execution_count": 6,
   "metadata": {},
   "outputs": [
    {
     "name": "stdout",
     "output_type": "stream",
     "text": [
      "--- Iron Scimitar ---\n",
      "Defence EXP\n",
      "Slope and x-intercept using matricies:  [21.25333333 18.35789474]\n",
      "Slope and x-intercept using SciPy stats:  (21.253333333333327, 18.35789473684258)\n",
      "\n",
      "Hitpoint EXP\n",
      "Slope and x-intercept using matricies:  [7.06673333 6.104     ]\n",
      "Slope and x-intercept using SciPy stats:  (7.066733333333333, 6.104000000000042)\n"
     ]
    }
   ],
   "source": [
    "# linear regression coefficients for the iron scimitar\n",
    "print(\"--- Iron Scimitar ---\")\n",
    "scim_defence_coeffs = linear_regression(time, scim_defence_exp.values)\n",
    "scim_defence_stats_coeffs = stats.linregress(time, scim_defence_exp.values)\n",
    "print(\"Defence EXP\")\n",
    "print(\"Slope and x-intercept using matricies: \", scim_defence_coeffs)\n",
    "print(\"Slope and x-intercept using SciPy stats: \", scim_defence_stats_coeffs[0:2])\n",
    "\n",
    "scim_hitpoint_coeffs = linear_regression(time, scim_hitpoint_exp.values)\n",
    "scim_hitpoint_stats_coeffs = stats.linregress(time, scim_hitpoint_exp.values)\n",
    "print(\"\\nHitpoint EXP\")\n",
    "print(\"Slope and x-intercept using matricies: \", scim_hitpoint_coeffs)\n",
    "print(\"Slope and x-intercept using SciPy stats: \", scim_hitpoint_stats_coeffs[0:2])"
   ]
  },
  {
   "cell_type": "code",
   "execution_count": 7,
   "metadata": {},
   "outputs": [
    {
     "data": {
      "image/png": "[encoded data removed]",
      "text/plain": [
       "<Figure size 801.734x360 with 2 Axes>"
      ]
     },
     "metadata": {
      "needs_background": "light"
     },
     "output_type": "display_data"
    }
   ],
   "source": [
    "# visualize data\n",
    "exp_scatter = sns.relplot(x = \"Time (min)\", \n",
    "                          y = \"Exp Gained\",\n",
    "                          hue = \"Exp Type\", \n",
    "                          col = \"Weapon Type\",\n",
    "                          data = combined_df)\n",
    "\n",
    "exp_scatter.set(xlabel = \"Time (min)\",\n",
    "                xticks = processed_rpg_df.iloc[1:len(combined_df) // 4:2, 0],\n",
    "                ylabel = \"Experience\",\n",
    "                yticks = range(0, 5000, 500))\n",
    "\n",
    "plt.show()"
   ]
  },
  {
   "cell_type": "code",
   "execution_count": 15,
   "metadata": {},
   "outputs": [
    {
     "name": "stdout",
     "output_type": "stream",
     "text": [
      "Time required to reach level 75 Defence using the Event RPG: 709.0\n",
      "Time required to reach level 75 Defence using the Event RPG: 844.0\n"
     ]
    }
   ],
   "source": [
    "# extrapolate to obtain the amount of time required to reach level 75 defence (1210421 exp) from 133685 exp\n",
    "rpg_time = round(extrapolate_time(133685, 1210421, rpg_defence_coeffs))\n",
    "print(\"Time required to reach level 75 Defence using the Event RPG:\", rpg_time)\n",
    "\n",
    "scim_time = round(extrapolate_time(133685, 1210421, scim_defence_coeffs))\n",
    "print(\"Time required to reach level 75 Defence using the Event RPG:\", scim_time)"
   ]
  }
 ],
 "metadata": {
  "kernelspec": {
   "display_name": "Python 3",
   "language": "python",
   "name": "python3"
  },
  "language_info": {
   "codemirror_mode": {
    "name": "ipython",
    "version": 3
   },
   "file_extension": ".py",
   "mimetype": "text/x-python",
   "name": "python",
   "nbconvert_exporter": "python",
   "pygments_lexer": "ipython3",
   "version": "3.6.6"
  }
 },
 "nbformat": 4,
 "nbformat_minor": 2
}
