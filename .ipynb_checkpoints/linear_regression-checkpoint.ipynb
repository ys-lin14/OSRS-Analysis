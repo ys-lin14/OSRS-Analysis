{
 "cells": [
  {
   "cell_type": "code",
   "execution_count": 1,
   "metadata": {},
   "outputs": [],
   "source": [
    "import pandas as pd\n",
    "import numpy as np\n",
    "import matplotlib.pyplot as plt\n",
    "import seaborn as sns\n",
    "from scipy import stats"
   ]
  },
  {
   "cell_type": "code",
   "execution_count": 2,
   "metadata": {},
   "outputs": [],
   "source": [
    "# linear regression using ordinary least squares \n",
    "def linear_regression(X_in, Y):  \n",
    "    X = np.ones((len(X_in), 2), np.uint64)\n",
    "    X[:, 1] = X_in\n",
    "    Xt = X.transpose()\n",
    "    \n",
    "    # compute beta = (X^t . X)^-1 . X^t . Y\n",
    "    coefficients = ((np.linalg.inv(Xt.dot(X))).dot(Xt)).dot(Y)\n",
    "    coefficients[0], coefficients[1] = coefficients[1], coefficients[0]\n",
    "    \n",
    "    return coefficients\n",
    "\n",
    "# format defence and hitpoint experience\n",
    "def process_df(df):\n",
    "    exp_type = np.zeros(len(df))\n",
    "    \n",
    "    d1 = { \"Time (min)\" : df[\"Time (min)\"],\n",
    "           \"Exp Gained\" : df[\"Def Exp Gained\"],\n",
    "           \"Exp Type\"   : exp_type } # initialize exp type column\n",
    "    defence_df = pd.DataFrame(data = d1)\n",
    "    defence_df.iloc[:, 2] = \"defence\" # declare exp type column\n",
    "\n",
    "    d2 = { \"Time (min)\" : df[\"Time (min)\"],\n",
    "           \"Exp Gained\" : df[\"HP Exp Gained\"],\n",
    "           \"Exp Type\"   : exp_type }\n",
    "    hitpoint_df = pd.DataFrame(data = d2)\n",
    "    hitpoint_df.iloc[:, 2] = \"hitpoint\"\n",
    "\n",
    "    processed_df = defence_df.append(hitpoint_df)\n",
    "\n",
    "    return processed_df\n",
    "\n",
    "# return the Y values needed for linear regression \n",
    "def get_linreg_Y(df):\n",
    "    category_length = len(df) / 2\n",
    "    Y = df.iloc[category_length:, 1].values\n",
    "    \n",
    "    return Y\n",
    "\n",
    "# combine the Event RPG and Iron Scimitar experience data together for graphing\n",
    "def combine_df(df1, df2):\n",
    "    category_length = len(df1) / 2\n",
    "    \n",
    "    df1_copy = df1.copy()\n",
    "    df2_copy = df2.copy()\n",
    "    \n",
    "    df1_copy[\"Weapon Type\"], df2_copy[\"Weapon Type\"] = np.zeros(len(df1)), np.zeros(len(df1))\n",
    "    df1_copy.iloc[:, 3] = \"Event RPG\"\n",
    "    df2_copy.iloc[:, 3] = \"Iron Scimitar\"\n",
    "    \n",
    "    combined_df = df1_copy.append(df2_copy)\n",
    "    \n",
    "    return combined_df  "
   ]
  },
  {
   "cell_type": "code",
   "execution_count": null,
   "metadata": {},
   "outputs": [],
   "source": [
    "# load preprocessed data\n",
    "rpg_df = pd.read_csv(\"rpg_data.csv\")\n",
    "scim_df = pd.read_csv(\"scim_data.csv\")"
   ]
  },
  {
   "cell_type": "code",
   "execution_count": null,
   "metadata": {},
   "outputs": [],
   "source": [
    "# process data\n",
    "processed_rpg_df = process_df(rpg_df)\n",
    "processed_scim_df = process_df(scim_df)"
   ]
  },
  {
   "cell_type": "code",
   "execution_count": null,
   "metadata": {},
   "outputs": [],
   "source": [
    "# write processed data to csv\n",
    "processed_rpg_df.to_csv(\"processed_rpg_data.csv\", index = False)\n",
    "processed_scim_df.to_csv(\"processed_scim_data.csv\", index = False)"
   ]
  },
  {
   "cell_type": "code",
   "execution_count": 3,
   "metadata": {},
   "outputs": [],
   "source": [
    "# load processed data (skip loading, processing and writing preprocessed data)\n",
    "processed_rpg_df = pd.read_csv(\"processed_rpg_data.csv\")\n",
    "processed_scim_df = pd.read_csv(\"processed_scim_data.csv\")"
   ]
  },
  {
   "cell_type": "code",
   "execution_count": 4,
   "metadata": {},
   "outputs": [],
   "source": [
    "# format inputs for linear regression\n",
    "category_length = int(len(processed_rpg_df) / 2)\n",
    "\n",
    "time = np.arange(0, 190, 10)\n",
    "\n",
    "rpg_defence_exp, rpg_hitpoint_exp = processed_rpg_df.iloc[:category_length, 1], processed_rpg_df.iloc[category_length:, 1]\n",
    "scim_defence_exp, scim_hitpoint_exp = processed_scim_df.iloc[:category_length, 1], processed_scim_df.iloc[category_length:, 1]"
   ]
  },
  {
   "cell_type": "code",
   "execution_count": 5,
   "metadata": {},
   "outputs": [
    {
     "name": "stdout",
     "output_type": "stream",
     "text": [
      "--- Event RPG ---\n",
      "Defence EXP\n",
      "Slope and x-intercept using matricies:  [25.31087719 -3.87368421]\n",
      "Slope and x-intercept using SciPy stats:  (25.310877192982453, -3.873684210526335)\n",
      "\n",
      "Hitpoint EXP\n",
      "Slope and x-intercept using matricies:  [ 8.41586667 -1.288     ]\n",
      "Slope and x-intercept using SciPy stats:  (8.415866666666666, -1.2879999999998972)\n"
     ]
    }
   ],
   "source": [
    "# results of linear regression for the Event RPG\n",
    "print(\"--- Event RPG ---\")\n",
    "rpg_defence_coeff = linear_regression(time, rpg_defence_exp.values)\n",
    "rpg_defence_stats_coeff = stats.linregress(time, rpg_defence_exp.values)\n",
    "print(\"Defence EXP\")\n",
    "print(\"Slope and x-intercept using matricies: \", rpg_defence_coeff)\n",
    "print(\"Slope and x-intercept using SciPy stats: \", rpg_defence_stats_coeff[0:2])\n",
    "\n",
    "rpg_hitpoint_coeffs = linear_regression(time, rpg_hitpoint_exp.values)\n",
    "rpg_hitpoint_stats_coeff = stats.linregress(time, rpg_hitpoint_exp.values)\n",
    "print(\"\\nHitpoint EXP\")\n",
    "print(\"Slope and x-intercept using matricies: \", rpg_hitpoint_coeffs)\n",
    "print(\"Slope and x-intercept using SciPy stats: \", rpg_hitpoint_stats_coeff[0:2])"
   ]
  },
  {
   "cell_type": "code",
   "execution_count": null,
   "metadata": {},
   "outputs": [],
   "source": [
    "# results of linear regression for the Iron Scimitar\n",
    "print(\"--- Iron Scimitar ---\")\n",
    "scim_defence_coeff = linear_regression(time, scim_defence_exp.values)\n",
    "scim_defence_stats_coeff = stats.linregress(time, scim_defence_exp.values)\n",
    "print(\"Defence EXP\")\n",
    "print(\"Slope and x-intercept using matricies: \", scim_defence_coeff)\n",
    "print(\"Slope and x-intercept using SciPy stats: \", scim_defence_stats_coeff[0:2])\n",
    "\n",
    "scim_hitpoint_coeff = linear_regression(time, scim_hitpoint_exp.values)\n",
    "scim_hitpoint_stats_coeff = stats.linregress(time, scim_hitpoint_exp.values)\n",
    "print(\"\\nHitpoint EXP\")\n",
    "print(\"Slope and x-intercept using matricies: \", scim_hitpoint_coeff)\n",
    "print(\"Slope and x-intercept using SciPy stats: \", scim_hitpoint_stats_coeff[0:2])"
   ]
  },
  {
   "cell_type": "code",
   "execution_count": null,
   "metadata": {},
   "outputs": [],
   "source": [
    "# visualize data\n",
    "combined_df = combine_df(processed_rpg_df, processed_scim_df)\n",
    "\n",
    "exp_scatter = sns.relplot(x = \"Time (min)\", \n",
    "                          y = \"Exp Gained\",\n",
    "                          hue = \"Exp Type\", \n",
    "                          col = \"Weapon Type\",\n",
    "                          data = combined_df)\n",
    "\n",
    "exp_scatter.set(xlabel = \"Time (min)\",\n",
    "                xticks = processed_rpg_df.iloc[1:len(combined_df) // 4:2, 0],\n",
    "                ylabel = \"Experience\",\n",
    "                yticks = range(0, 5000, 500))\n",
    "\n",
    "plt.show()"
   ]
  }
 ],
 "metadata": {
  "kernelspec": {
   "display_name": "Python 3",
   "language": "python",
   "name": "python3"
  },
  "language_info": {
   "codemirror_mode": {
    "name": "ipython",
    "version": 3
   },
   "file_extension": ".py",
   "mimetype": "text/x-python",
   "name": "python",
   "nbconvert_exporter": "python",
   "pygments_lexer": "ipython3",
   "version": "3.6.6"
  }
 },
 "nbformat": 4,
 "nbformat_minor": 2
}
