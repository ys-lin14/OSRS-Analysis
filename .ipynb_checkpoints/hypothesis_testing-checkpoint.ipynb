{
 "cells": [
  {
   "cell_type": "code",
   "execution_count": 1,
   "metadata": {},
   "outputs": [],
   "source": [
    "import pandas as pd\n",
    "import numpy as np\n",
    "from scipy import stats\n",
    "import matplotlib.pyplot as plt\n",
    "import seaborn as sns\n",
    "import math"
   ]
  },
  {
   "cell_type": "code",
   "execution_count": 2,
   "metadata": {},
   "outputs": [],
   "source": [
    "def get_probability_df(df):\n",
    "    \"\"\"Creates a new dataframe containing probability data\n",
    "    \n",
    "    Args:\n",
    "        df (dataframe): contains experience data from both weapons\n",
    "        \n",
    "    Returns:\n",
    "        probability_df (dataframe): the cumulative number of successful attacks, \n",
    "                                    total attacks, probability and weapons\n",
    "    \"\"\"\n",
    "    \n",
    "    defence_df = df[(df['exp_type'] == \"defence\") & (df['exp_gained'] != 0)]\n",
    "    \n",
    "    successful_attacks = (defence_df['exp_gained'] / 4).astype(int)\n",
    "    \n",
    "    rpg_total_attacks = defence_df.loc[defence_df['weapon'] == \"Event RPG\", 'time_(min)'] * 60 / 1.8\n",
    "    scim_total_attacks = defence_df.loc[defence_df['weapon'] == \"Iron Scimitar\", 'time_(min)'] * 60 / 2.4\n",
    "    total_attacks = rpg_total_attacks.append(scim_total_attacks)\n",
    "    total_attacks = total_attacks.astype(int)\n",
    "    \n",
    "    success_probabilities = successful_attacks / total_attacks\n",
    "    \n",
    "    d = { \"successful_attacks\": successful_attacks,\n",
    "          \"total_attacks\": total_attacks,   \n",
    "          \"p\": success_probabilities,\n",
    "          \"weapon\": defence_df['weapon'] }\n",
    "    \n",
    "    probability_df = pd.DataFrame(data = d)\n",
    "    \n",
    "    return probability_df\n",
    "    \n",
    "def get_interval_hit_data(df, weapon):\n",
    "    \"\"\"Gets the number of successful hits for each 10 minute \n",
    "    interval \n",
    "    \n",
    "    Args:\n",
    "        df (dataframe): contains probability data from both weapons\n",
    "        weapon (string): specifies weapon's hit data will be returned\n",
    "        \n",
    "    Returns:\n",
    "        kde_data (array): the number of successful hits for each 10 minute\n",
    "                          interval\n",
    "    \"\"\"\n",
    "    \n",
    "    interval_hit_data = [0]\n",
    "    interval_hit_data(df.loc[df['weapon'] == weapon, 'successful_attacks'])\n",
    "    \n",
    "    interval_hit_data = [interval_hit_data[i] - interval_hit_data[i - 1] for i in range(len(interval_hit_data))]\n",
    "    interval_hit_data.pop(0)\n",
    "    interval_hit_data = np.array(interval_hit_data)\n",
    "    \n",
    "    return interval_hit_data\n",
    "\n",
    "def display_interval_data(interval_data, weapon):\n",
    "    print(weapon, \"10-minute interval data:\", interval_data)\n",
    "\n",
    "def get_parameters(df, interval_hit_data, weapon):\n",
    "    \"\"\"Gets the final probabilistic parameters \n",
    "    \n",
    "    Args:\n",
    "        df (dataframe): contains probability data from both weapons\n",
    "        interval_hit_data (array): \n",
    "            contains the number of successful hits in each 10 minutes interval \n",
    "            for the given weapon \n",
    "        weapon (string): specifies which weapon's parameters will be returned\n",
    "        \n",
    "    Returns:\n",
    "        n (int): total number of attacks \n",
    "        p (float): estimate for the probability of landing a successful hit, \n",
    "                   rounded to 6 digits\n",
    "        mean (int) : mean number of successful hits per minute, \n",
    "                     rounded to the nearest integer\n",
    "    \"\"\"\n",
    "    \n",
    "    weapon_df = df[df['weapon'] == weapon]\n",
    "    \n",
    "    n = weapon_df['total_attacks'].iloc[-1]\n",
    "    p = round(weapon_df['p'].iloc[-1], 6)\n",
    "    mean = np.mean(interval_hit_data) // 10\n",
    "    \n",
    "    return n, p, mean\n",
    "\n",
    "def display_parameters(parameters, weapon):\n",
    "    print(\"---\", weapon, \"---\")\n",
    "    print(\"n:\", parameters[0])\n",
    "    print(\"p:\", parameters[1])\n",
    "    print(\"mean:\", parameters[2])\n",
    "\n",
    "def calculate_pooled_test_power(n1, n2, p1, p2, significance_level, number_of_tails):\n",
    "    p_bar = (((n1) * (p1)) + ((n2) * (p2))) / (n1 + n2)\n",
    "    q_bar = 1 - p_bar\n",
    "    \n",
    "    tails  = { 1 : stats.norm.ppf(significance_level), \n",
    "               2 : stats.norm.ppf(significance_level / 2) }\n",
    "    \n",
    "    critical_value = tails[number_of_tails]\n",
    "    unpooled_standard_error = math.sqrt((p1 * (1 - p1) / n1) + (p2 * (1 - p2) / n2))\n",
    "    pooled_standard_error = math.sqrt(p_bar * q_bar * ((1 / n1) + (1 / n2)))\n",
    "    \n",
    "    power_statistic = (critical_value * unpooled_standard_error + (p1 - p2)) / pooled_standard_error   \n",
    "    \n",
    "    power = 1 - round(stats.norm.cdf(power_statistic), 6)\n",
    "    \n",
    "    return power\n",
    "\n",
    "def calculate_pooled_test_statistic(n1, n2, p1, p2):\n",
    "    p = (((n1) * (p1)) + ((n2) * (p2))) / (n1 + n2)\n",
    "    sigma = math.sqrt(p * (1 - p) * ((1 / n1) + (1 / n2)))\n",
    "    \n",
    "    z = (p1 - p2) / sigma\n",
    "    rounded_z = round(z, 6)\n",
    "    \n",
    "    return rounded_z\n",
    "\n",
    "def calculate_normal_p_value(test_statistic):\n",
    "    p_value = stats.norm.cdf(test_statistic) if test_statistic < 0 else stats.norm.sf(test_statistic)\n",
    "    \n",
    "    return p_value\n",
    "\n",
    "def get_z_test_results(n1, n2, p1, p2, significance_level, number_of_tails):\n",
    "    \"\"\"Get the power, test statistic and p-value of a 2-sample Z-test that \n",
    "    uses the Standard normal distribution\n",
    "    \n",
    "    Args:\n",
    "        n1 (int): the size of the first sample\n",
    "        n2 (int): the size of the second sample\n",
    "        p1 (float): the probability of success for the first sample\n",
    "        p2 (float): the probability of success for the second sample\n",
    "        significance_level (float): the significance level of the test \n",
    "        number_of_tails (int): whether it is a 1 or 2 tailed test\n",
    "        \n",
    "    Returns:\n",
    "        power (float): the probability of rejecting a false null hypothesis\n",
    "        z_statistic (float): the pooled test statistic \n",
    "        p_value (float): the probability of obtaining the observed results\n",
    "                         assuming that the null hypothesis is true\n",
    "    \"\"\"\n",
    "    \n",
    "    power = calculate_pooled_test_power(rpg_n, scim_n, rpg_p, scim_p, 0.05, 1)\n",
    "    z_statistic = calculate_pooled_test_statistic(rpg_n, scim_n, rpg_p, scim_p)\n",
    "    p_value = calculate_normal_p_value(z_statistic)\n",
    "    \n",
    "    return power, z_statistic, p_value\n",
    "\n",
    "def display_z_test_results(z_test_results):\n",
    "    print(\"power =\", z_test_results[0])\n",
    "    print(\"statistic =\", z_test_results[1])\n",
    "    print(\"p-value =\", z_test_results[2])\n",
    "    \n",
    "def calculate_t_test_statistic(interval_data1, interval_data2):\n",
    "    mu1, mu2 = np.mean(interval_data1), np.mean(interval_data2)\n",
    "    data1_length, data2_length = len(interval_data1), len(interval_data2)\n",
    "    pooled_sample_variance = (data1_length * (np.var(interval_data1) + np.var(interval_data2))) / \\\n",
    "                             (data1_length + data2_length - 2)\n",
    "    \n",
    "    t = (mu1 - mu2) / math.sqrt(pooled_sample_variance * ((1 / data1_length) + (1 / data2_length)))\n",
    "    \n",
    "    return t\n",
    "\n",
    "def calculate_student_p_value(test_statistic, degrees_freedom):\n",
    "    if test_statistic < 0:\n",
    "        p_value = stats.t.cdf(test_statistic, degrees_freedom)\n",
    "    else: \n",
    "        p_value = stats.t.sf(test_statistic, degrees_freedom)\n",
    "    \n",
    "    return p_value\n",
    "\n",
    "# get the test statistic and p-value for the T-Test\n",
    "def get_t_test_results(interval_data1, interval_data2):\n",
    "    \"\"\"Get the test statistic and p-value of a 2-sample T-test that \n",
    "    uses a Student distribution with (len(interval_data1) + \n",
    "    len(interval_data2) - 2) degrees of freedom\n",
    "    \n",
    "    Args:\n",
    "        interval_data1 (array): \n",
    "            the number of successful hits in every 10 minute interval for weapon 1\n",
    "        interval_data2 (array): \n",
    "            the number of successful hits in every 10 minute interval for weapon 2\n",
    "        \n",
    "    Returns:\n",
    "        t_statistic (float): statistic for the T-test\n",
    "        p_value (float): the probability of obtaining the observed results\n",
    "                         assuming that the null hypothesis is true\n",
    "    \"\"\"\n",
    "    \n",
    "    t_statistic = calculate_t_test_statistic(interval_data1, interval_data2)\n",
    "    degrees_freedom = len(interval_data1) + len(interval_data2) - 2\n",
    "    p_value = calculate_student_p_value(t_statistic, degrees_freedom)\n",
    "    \n",
    "    return t_statistic, p_value\n",
    "    \n",
    "def display_t_test_results(t_test_results):\n",
    "    print(\"statistic =\", t_test_results[0])\n",
    "    print(\"p-value =\", t_test_results[1])\n",
    "\n",
    "# graphs a standard normal curve with the option to shade the lower, upper or both tails\n",
    "def graph_standard_normal(graph_title, significance_level=None, shade=None):\n",
    "    \"\"\"Graphs a standard normal curve with the lower, upper, both or no tails shaded\n",
    "    (default)\n",
    "    \n",
    "    Args:\n",
    "        graph_title: string specifying the graph's title\n",
    "        significance_level: float representing the area contained within the tail(s)\n",
    "        shade: string specifying which tail(s) will be shaded, accepts\n",
    "               \"lower\", \"upper\" or  \"both\"\n",
    "        \n",
    "    Returns:\n",
    "        None\n",
    "    \"\"\"\n",
    "    \n",
    "    standard_normal_x = np.linspace(stats.norm.ppf(0.001), stats.norm.ppf(0.999), 250)\n",
    "    standard_normal_y = stats.norm.pdf(standard_normal_x)\n",
    "\n",
    "    standard_normal_curve = sns.lineplot(standard_normal_x, standard_normal_y)\n",
    "    standard_normal_curve.set(title = graph_title,\n",
    "                              ylabel = \"Density\")\n",
    "    \n",
    "    if shade is not None:\n",
    "        # the area of each tail equal half of the significance level if shading both tails\n",
    "        d = { \"both\"  : (1, 1, stats.norm.ppf(significance_level / 2), stats.norm.ppf(1 - significance_level / 2)),\n",
    "              \"lower\" : (1, 0, stats.norm.ppf(significance_level), -1),\n",
    "              \"upper\" : (0, 1, -1, stats.norm.ppf((1 - significance_level))) }\n",
    "            \n",
    "        (shadeLower, shadeUpper, critical_left, critical_right) = d[shade]\n",
    "        \n",
    "        if (shadeLower):\n",
    "            left_tail_x = standard_normal_x[standard_normal_x < critical_left]\n",
    "            left_tail_y = stats.norm.pdf(left_tail_x)\n",
    "            plt.fill_between(left_tail_x, left_tail_y, color = \"cornflowerblue\")\n",
    "            print(\"critical value =\", critical_left)\n",
    "        \n",
    "        if (shadeUpper):\n",
    "            right_tail_x = standard_normal_x[standard_normal_x > critical_right]\n",
    "            right_tail_y = stats.norm.pdf(right_tail_x)\n",
    "            plt.fill_between(right_tail_x, right_tail_y, color = \"cornflowerblue\")\n",
    "            print(\"critical value =\", critical_right)\n",
    "    \n",
    "    plt.ylim(0, 0.42)\n",
    "    plt.show()"
   ]
  },
  {
   "cell_type": "code",
   "execution_count": 3,
   "metadata": {},
   "outputs": [],
   "source": [
    "# load data\n",
    "combined_df = pd.read_csv(\"data/combined_data.csv\")"
   ]
  },
  {
   "cell_type": "code",
   "execution_count": 4,
   "metadata": {},
   "outputs": [],
   "source": [
    "# transform data\n",
    "combined_probability_df = get_probability_df(combined_df)"
   ]
  },
  {
   "cell_type": "code",
   "execution_count": 5,
   "metadata": {},
   "outputs": [],
   "source": [
    "# write processed data to csv\n",
    "combined_probability_df.to_csv(\"data/combined_probability_data.csv\", index = False)"
   ]
  },
  {
   "cell_type": "code",
   "execution_count": 6,
   "metadata": {},
   "outputs": [],
   "source": [
    "# load processed data\n",
    "combined_probability_df = pd.read_csv(\"data/combined_probability_data.csv\")"
   ]
  },
  {
   "cell_type": "code",
   "execution_count": 7,
   "metadata": {},
   "outputs": [
    {
     "data": {
      "image/png": "[encoded data removed]",
      "text/plain": [
       "<Figure size 459.75x360 with 1 Axes>"
      ]
     },
     "metadata": {
      "needs_background": "light"
     },
     "output_type": "display_data"
    }
   ],
   "source": [
    "# visualize trend of success probability p as sample size n increases \n",
    "successful_hits_scatter = sns.relplot(x = \"total_attacks\",\n",
    "                                      y = \"p\",\n",
    "                                      hue = \"weapon\",\n",
    "                                      data = combined_probability_df)\n",
    "\n",
    "successful_hits_scatter.set(title = \"Figure 1 - Success Probability Estimates\",\n",
    "                            xlabel = \"total_attacks\",\n",
    "                            ylabel = \"Probability of a Successful Hit\")\n",
    "\n",
    "plt.xlim(5, None)\n",
    "plt.ylim(0.15, 0.3)\n",
    "\n",
    "plt.show()"
   ]
  },
  {
   "cell_type": "code",
   "execution_count": 8,
   "metadata": {},
   "outputs": [
    {
     "ename": "TypeError",
     "evalue": "'list' object is not callable",
     "output_type": "error",
     "traceback": [
      "\u001b[1;31m---------------------------------------------------------------------------\u001b[0m",
      "\u001b[1;31mTypeError\u001b[0m                                 Traceback (most recent call last)",
      "\u001b[1;32m<ipython-input-8-711b61528180>\u001b[0m in \u001b[0;36m<module>\u001b[1;34m\u001b[0m\n\u001b[0;32m      1\u001b[0m \u001b[1;31m# get the number of successful hits for every 10 minute interval\u001b[0m\u001b[1;33m\u001b[0m\u001b[1;33m\u001b[0m\u001b[0m\n\u001b[1;32m----> 2\u001b[1;33m \u001b[0mrpg_interval_hit_data\u001b[0m \u001b[1;33m=\u001b[0m \u001b[0mget_interval_hit_data\u001b[0m\u001b[1;33m(\u001b[0m\u001b[0mcombined_probability_df\u001b[0m\u001b[1;33m,\u001b[0m \u001b[1;34m\"Event RPG\"\u001b[0m\u001b[1;33m)\u001b[0m\u001b[1;33m\u001b[0m\u001b[0m\n\u001b[0m\u001b[0;32m      3\u001b[0m \u001b[0mscim_interval_hit_data\u001b[0m \u001b[1;33m=\u001b[0m \u001b[0mget_interval_hit_data\u001b[0m\u001b[1;33m(\u001b[0m\u001b[0mcombined_probability_df\u001b[0m\u001b[1;33m,\u001b[0m \u001b[1;34m\"Iron Scimitar\"\u001b[0m\u001b[1;33m)\u001b[0m\u001b[1;33m\u001b[0m\u001b[0m\n\u001b[0;32m      4\u001b[0m \u001b[1;33m\u001b[0m\u001b[0m\n\u001b[0;32m      5\u001b[0m \u001b[1;31m# probability of successful hits for every individual 10 minute interval\u001b[0m\u001b[1;33m\u001b[0m\u001b[1;33m\u001b[0m\u001b[0m\n",
      "\u001b[1;32m<ipython-input-2-08cdbfc8d6d8>\u001b[0m in \u001b[0;36mget_interval_hit_data\u001b[1;34m(df, weapon)\u001b[0m\n\u001b[0;32m     46\u001b[0m \u001b[1;33m\u001b[0m\u001b[0m\n\u001b[0;32m     47\u001b[0m     \u001b[0minterval_hit_data\u001b[0m \u001b[1;33m=\u001b[0m \u001b[1;33m[\u001b[0m\u001b[1;36m0\u001b[0m\u001b[1;33m]\u001b[0m\u001b[1;33m\u001b[0m\u001b[0m\n\u001b[1;32m---> 48\u001b[1;33m     \u001b[0minterval_hit_data\u001b[0m\u001b[1;33m(\u001b[0m\u001b[0mdf\u001b[0m\u001b[1;33m.\u001b[0m\u001b[0mloc\u001b[0m\u001b[1;33m[\u001b[0m\u001b[0mdf\u001b[0m\u001b[1;33m[\u001b[0m\u001b[1;34m'weapon'\u001b[0m\u001b[1;33m]\u001b[0m \u001b[1;33m==\u001b[0m \u001b[0mweapon\u001b[0m\u001b[1;33m,\u001b[0m \u001b[1;34m'successful_attacks'\u001b[0m\u001b[1;33m]\u001b[0m\u001b[1;33m)\u001b[0m\u001b[1;33m\u001b[0m\u001b[0m\n\u001b[0m\u001b[0;32m     49\u001b[0m \u001b[1;33m\u001b[0m\u001b[0m\n\u001b[0;32m     50\u001b[0m     \u001b[0minterval_hit_data\u001b[0m \u001b[1;33m=\u001b[0m \u001b[1;33m[\u001b[0m\u001b[0minterval_hit_data\u001b[0m\u001b[1;33m[\u001b[0m\u001b[0mi\u001b[0m\u001b[1;33m]\u001b[0m \u001b[1;33m-\u001b[0m \u001b[0minterval_hit_data\u001b[0m\u001b[1;33m[\u001b[0m\u001b[0mi\u001b[0m \u001b[1;33m-\u001b[0m \u001b[1;36m1\u001b[0m\u001b[1;33m]\u001b[0m \u001b[1;32mfor\u001b[0m \u001b[0mi\u001b[0m \u001b[1;32min\u001b[0m \u001b[0mrange\u001b[0m\u001b[1;33m(\u001b[0m\u001b[0mlen\u001b[0m\u001b[1;33m(\u001b[0m\u001b[0minterval_hit_data\u001b[0m\u001b[1;33m)\u001b[0m\u001b[1;33m)\u001b[0m\u001b[1;33m]\u001b[0m\u001b[1;33m\u001b[0m\u001b[0m\n",
      "\u001b[1;31mTypeError\u001b[0m: 'list' object is not callable"
     ]
    }
   ],
   "source": [
    "# get the number of successful hits for every 10 minute interval\n",
    "rpg_interval_hit_data = get_interval_hit_data(combined_probability_df, \"Event RPG\")\n",
    "scim_interval_hit_data = get_interval_hit_data(combined_probability_df, \"Iron Scimitar\")\n",
    "\n",
    "# probability of successful hits for every individual 10 minute interval\n",
    "rpg_hit_probability_data = rpg_interval_hit_data / 333\n",
    "scim_hit_probability_data = scim_interval_hit_data / 250"
   ]
  },
  {
   "cell_type": "code",
   "execution_count": null,
   "metadata": {
    "scrolled": true
   },
   "outputs": [],
   "source": [
    "# kde for the number and probability of successful hits per 10 minutes\n",
    "fig, (ax1, ax2) = plt.subplots(ncols = 2, figsize = (12, 4))\n",
    "\n",
    "combined_hit_probability_kde = sns.kdeplot(rpg_hit_probability_data, label = \"Event RPG\", ax = ax1)\n",
    "combined_hit_probability_kde = sns.kdeplot(scim_hit_probability_data, label = \"Iron Scimitar\", ax = ax1)\n",
    "\n",
    "combined_hit_probability_kde.set(title = \"Figure 2 - Hit Probability KDE\",\n",
    "                                 xlabel = \"Successful Hits Relative to the Total Number of Hits\",\n",
    "                                 ylabel = \"Density\")\n",
    "\n",
    "combined_interval_hit_kde = sns.kdeplot(rpg_interval_hit_data, label = \"Event RPG\", ax = ax2)\n",
    "combined_interval_hit_kde = sns.kdeplot(scim_interval_hit_data, label = \"Iron Scimitar\", ax = ax2)\n",
    "\n",
    "combined_interval_hit_kde.set(title = \"Figure 3 - Successful Hit Rate KDE\",\n",
    "                              xlabel = \"Successful Hits per 10 Minutes\",\n",
    "                              ylabel = \"Density\")\n",
    "\n",
    "plt.show()"
   ]
  },
  {
   "cell_type": "markdown",
   "metadata": {},
   "source": [
    "Figure 2 suggests that the Iron Scimitar is more accurate than the Event RPG while Figure 3 suggests that training with the Event RPG typically results in more successful hits every 10 minutes. This implies that attack speed results in higher experience rates when compared to attack bonuses.\n",
    "<br>\n",
    "\n",
    "Having observed differences between the Event RPG and Iron Scimitar in both the linear regression and the kernel density estimates I now set out to determine whether or not the difference is statistically significant through hypothesis testing."
   ]
  },
  {
   "cell_type": "code",
   "execution_count": null,
   "metadata": {},
   "outputs": [],
   "source": [
    "# get and display the mean number of successful attacks per minute (rounded), the total number of attacks\n",
    "# along with success probability estimate (p) for the Event RPG\n",
    "rpg_parameters = get_parameters(combined_probability_df, \n",
    "                                rpg_interval_hit_data, \n",
    "                                \"Event RPG\")\n",
    "\n",
    "rpg_n, rpg_p = rpg_parameters[0], rpg_parameters[1]\n",
    "\n",
    "display_parameters(rpg_parameters, \"Event RPG\")"
   ]
  },
  {
   "cell_type": "code",
   "execution_count": null,
   "metadata": {
    "scrolled": true
   },
   "outputs": [],
   "source": [
    "scim_parameters = get_parameters(combined_probability_df, \n",
    "                                 scim_interval_hit_data,\n",
    "                                 \"Iron Scimitar\")\n",
    "\n",
    "scim_n, scim_p = scim_parameters[0], scim_parameters[1]\n",
    "\n",
    "display_parameters(scim_parameters, \"Iron Scimitar\")"
   ]
  },
  {
   "cell_type": "markdown",
   "metadata": {},
   "source": [
    "Having obtained the parameters for the Event RPG and Iron Scimitar, I proceed to use the p's to construct binomial distributions and formulate hypotheses regarding whether or not attack bonuses affect the probability of a successful hit.\n",
    "<br>\n",
    "\n",
    "Letting $R_{b}$ and $S_{b}$ denote the number of successful hits per minute using the Event RPG and Iron Scimitar respectively,\n",
    "\n",
    "\n",
    "\n",
    "<i> $R_{b}$ ~ binomial ( $a$, $p_{1}$) </i> and <i> $S_{b}$ ~ binomial ( $b$, $p_{2}$) </i> \n",
    "where $p_{1}$ = 0.190167 and $p_{2}$ = 0.214889\n",
    "<br>\n",
    "\n",
    "Hypotheses:\n",
    "<br>\n",
    "$H_{0}$: $p_{1}$ = $p_{2}$\n",
    "<br>\n",
    "$H_{1}$: $p_{1}$ ≠ $p_{2}$\n",
    "\n",
    "\n",
    "<br>\n",
    "Using a significance level of 0.05, I will reject the null hypothesis if the test statistic falls in the rejection regions (shaded in Figure 4) or, in other words, if there is less than a 5% chance of observing results as extreme or more extreme given that the null hypothesis is true. In terms of pooled test statistic $z_{t}$, the two statements can be expressed as $|z_{t}| > 1.96$ and $2P(Z > |z_{t}|) < 0.05$.\n"
   ]
  },
  {
   "cell_type": "code",
   "execution_count": null,
   "metadata": {},
   "outputs": [],
   "source": [
    "graph_standard_normal(\"Figure 4 -Standard Normal Curve with Two Rejection Regions\", 0.05, \"both\")"
   ]
  },
  {
   "cell_type": "code",
   "execution_count": null,
   "metadata": {},
   "outputs": [],
   "source": [
    "z_test_results = get_z_test_results(rpg_n, scim_n, rpg_p, scim_p, 0.05, 1)\n",
    "display_z_test_results(z_test_results)"
   ]
  },
  {
   "cell_type": "markdown",
   "metadata": {},
   "source": [
    "The power indicates that the probability of correctly rejecting the null hypothesis is high. It is also important to note that the test statistic and the p-value only reveals that there is a difference between the Event RPG and the Iron Scimitar in terms of accuracy but does not determine which is more accurate given that this was a two-tailed test. Since Figure 2 suggests that the Iron Scimitar had higher accuracy, I formulate a new alternate hypothesis to determine which weapon is more accurate.\n",
    "<br>\n",
    "\n",
    "Hypotheses:\n",
    "<br>\n",
    "$H_{0}$: $p_{1}$ = $p_{2}$\n",
    "<br>\n",
    "$H_{1}$: $p_{1}$ < $p_{2}$\n",
    "<br>\n",
    "\n",
    "I will now reject the null hypothesis if $z_{t}$ <u><</u> $-1.64$ or if $P(Z$ <u><</u> $z_{t}) < 0.05$ with the new rejection region being displayed below in Figure 5."
   ]
  },
  {
   "cell_type": "code",
   "execution_count": null,
   "metadata": {
    "scrolled": true
   },
   "outputs": [],
   "source": [
    "graph_standard_normal(\"Figure 5 - Standard Normal Curve with a Lower-Tailed Rejection Region\", 0.05, \"lower\")"
   ]
  },
  {
   "cell_type": "markdown",
   "metadata": {},
   "source": [
    "After changing the alternate hypothesis, the test statistic also lies in the new rejection region which implies that the Iron Scimitar is indeed more accurate than the Event RPG."
   ]
  },
  {
   "cell_type": "markdown",
   "metadata": {},
   "source": [
    "I now formulate hypotheses in terms of μ, which denotes the mean number of successful hits over 10 minutes to test for whether or not there is a difference in terms of experience rates.\n",
    "<br>\n",
    "\n",
    "Letting $μ_{1}$ and $μ_{2}$ denote the mean for the Event RPG and Iron Scimitar respectively,\n",
    "<br>\n",
    "\n",
    "\n",
    "Hypotheses:\n",
    "<br>\n",
    "$H_{0}$: $μ_{1}$ = $μ_{2}$\n",
    "<br>\n",
    "$H_{1}$: $μ_{1}$ ≠ $μ_{2}$\n",
    "<br>\n",
    "\n",
    "Since the samples (shown below) are small, I proceed to use the two-tailed T-Test from the stats module."
   ]
  },
  {
   "cell_type": "code",
   "execution_count": null,
   "metadata": {},
   "outputs": [],
   "source": [
    "display_interval_data(rpg_interval_hit_data, \"Event RPG\")\n",
    "display_interval_data(scim_interval_hit_data, \"Iron Scimitar RPG\")"
   ]
  },
  {
   "cell_type": "code",
   "execution_count": null,
   "metadata": {},
   "outputs": [],
   "source": [
    "two_tailed_t_test_results = stats.ttest_ind(rpg_interval_hit_data, scim_interval_hit_data)\n",
    "display_t_test_results(two_tailed_t_test_results)"
   ]
  },
  {
   "cell_type": "markdown",
   "metadata": {},
   "source": [
    "The p-value again only reveals that there is a difference between the Event RPG and the Iron Scimitar in terms of the mean number of successful hits since this was a two-tailed test. Following a process similar to that of the Z-Test, I formulate a new alternate hypothesis $H_{1}$ to determine which weapon is more efficient.\n",
    "<br>\n",
    "\n",
    "Hypotheses:\n",
    "<br>\n",
    "$H_{0}$: $p_{1}$ = $p_{2}$\n",
    "<br>\n",
    "$H_{1}$: $p_{1}$ > $p_{2}$"
   ]
  },
  {
   "cell_type": "code",
   "execution_count": null,
   "metadata": {},
   "outputs": [],
   "source": [
    "one_tailed_t_test_results = get_t_test_results(rpg_interval_hit_data, scim_interval_hit_data)\n",
    "display_t_test_results(one_tailed_t_test_results)"
   ]
  },
  {
   "cell_type": "markdown",
   "metadata": {},
   "source": [
    "Calculating the test statistic for the T-Test from scratch and using the survival function from the stats module to calculate the p-value I once again reject the null hypothesis in favour of the alternate hypothesis since the probability of observing results similar to or more extreme than the data would be significantly less than 5% assuming that the null hypothesis is true.\n",
    "\n",
    "<br>\n",
    "In conclusion, the hypothesis testing reinforces the idea that 1 $-$ The Iron Scimitar is more accurate than the Event RPG and that 2 $-$ The Event RPG is more efficient than the Iron Scimitar in terms of experience per hour."
   ]
  }
 ],
 "metadata": {
  "kernelspec": {
   "display_name": "Python 3",
   "language": "python",
   "name": "python3"
  },
  "language_info": {
   "codemirror_mode": {
    "name": "ipython",
    "version": 3
   },
   "file_extension": ".py",
   "mimetype": "text/x-python",
   "name": "python",
   "nbconvert_exporter": "python",
   "pygments_lexer": "ipython3",
   "version": "3.6.6"
  }
 },
 "nbformat": 4,
 "nbformat_minor": 2
}
