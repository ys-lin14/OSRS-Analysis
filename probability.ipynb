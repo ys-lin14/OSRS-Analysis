{
 "cells": [
  {
   "cell_type": "code",
   "execution_count": 1,
   "metadata": {},
   "outputs": [],
   "source": [
    "import pandas as pd\n",
    "import numpy as np\n",
    "import math\n",
    "import matplotlib.pyplot as plt\n",
    "import seaborn as sns"
   ]
  },
  {
   "cell_type": "code",
   "execution_count": 2,
   "metadata": {},
   "outputs": [],
   "source": [
    "# return a trimmed copy of the dataframe containing only the defence exp data\n",
    "def trim_df(df):\n",
    "    category_length = len(df) // 2\n",
    "    df_copy= df.copy()\n",
    "    \n",
    "    trimmed_df = df_copy.iloc[:category_length, :2]\n",
    "    \n",
    "    return trimmed_df\n",
    "\n",
    "# create a dataframe containing the successful number of hits, the sample size (n) and an estimator for p (p_hat)\n",
    "# where p_hat is an estimate for the probability of hitting a 1 with either an Event RPG or Iron Scimitar\n",
    "def get_probability_df(df, weapon_type):\n",
    "    attack_speed = {   \"Event RPG\"   : 1.8,  # Event RPG attacks once every 1.8s \n",
    "                     \"Iron Scimitar\" : 2.4 } # Iron Scimitar attacks once every 2.4s\n",
    "    \n",
    "    successful_attacks = df.loc[1:, \"Exp Gained\"].to_numpy() / 4\n",
    "    total_attacks = df.loc[1:, \"Time (min)\"].to_numpy() * 60 / attack_speed[weapon_type]\n",
    "    total_attacks = [math.floor(attacks) for attacks in total_attacks]\n",
    "    p_hat = successful_attacks / total_attacks\n",
    "    \n",
    "    d = { \"Successful Attacks\" : successful_attacks,\n",
    "          \"Total Attacks\"      : total_attacks,\n",
    "          \"p hat\"              : p_hat }\n",
    "    \n",
    "    probability_df = pd.DataFrame(data = d)\n",
    "    \n",
    "    return probability_df\n",
    "\n",
    "def combine_df(df1, df2):\n",
    "    df1_copy = df1.copy()\n",
    "    df2_copy = df2.copy()\n",
    "    \n",
    "    df1_copy[\"Weapon\"], df2_copy[\"Weapon\"] = np.zeros(len(df1)), np.zeros(len(df1))\n",
    "    df1_copy.loc[:, \"Weapon\"] = \"Event RPG\"\n",
    "    df2_copy.loc[:, \"Weapon\"] = \"Iron Scimitar\"\n",
    "    \n",
    "    combined_df = df1_copy.append(df2_copy)\n",
    "    \n",
    "    return combined_df  \n",
    "\n",
    "def display_parameters(n, p_hat, q):\n",
    "    print(\"    n:\", n)\n",
    "    print(\"p_hat:\", p_hat)\n",
    "    print(\"    q:\", q)"
   ]
  },
  {
   "cell_type": "code",
   "execution_count": 3,
   "metadata": {},
   "outputs": [],
   "source": [
    "# load processed data\n",
    "processed_rpg_df = pd.read_csv(\"data/processed_rpg_data.csv\")\n",
    "processed_scim_df = pd.read_csv(\"data/processed_scim_data.csv\")"
   ]
  },
  {
   "cell_type": "code",
   "execution_count": 4,
   "metadata": {},
   "outputs": [],
   "source": [
    "# transform data \n",
    "trimmed_rpg_df = trim_df(processed_rpg_df)\n",
    "trimmed_scim_df = trim_df(processed_scim_df)\n",
    "\n",
    "# calculate and add the probabilities of hitting a 1 to the dataframes\n",
    "rpg_probability_df = get_probability_df(trimmed_rpg_df, \"Event RPG\")\n",
    "scim_probability_df = get_probability_df(trimmed_scim_df, \"Iron Scimitar\")\n",
    "\n",
    "# transform data for visualization\n",
    "combined_probability_df = combine_df(rpg_probability_df, scim_probability_df)\n",
    "combined_probability_df_length = int(len(combined_probability_df))"
   ]
  },
  {
   "cell_type": "code",
   "execution_count": 7,
   "metadata": {},
   "outputs": [],
   "source": [
    "# write processed data to csv\n",
    "combined_probability_df.to_csv(\"data/combined_probability_data.csv\", index = False)"
   ]
  },
  {
   "cell_type": "code",
   "execution_count": null,
   "metadata": {},
   "outputs": [],
   "source": [
    "# load processed data\n",
    "combined_probability_df = pd.read_csv(\"data/combined_probability_data.csv\")"
   ]
  },
  {
   "cell_type": "code",
   "execution_count": null,
   "metadata": {},
   "outputs": [],
   "source": [
    "# Event RPG sample size, p estimator and q\n",
    "rpg_row = combined_probability_df_length // 2 - 1\n",
    "rpg_n, rpg_p_hat = combined_probability_df.iloc[rpg_row, 1], round(combined_probability_df.iloc[rpg_row, 2], 6)\n",
    "rpg_q = 1 - rpg_p_hat\n",
    "\n",
    "print(\"--- Event RPG --- \")\n",
    "display_parameters(rpg_n, rpg_p_hat, rpg_q)"
   ]
  },
  {
   "cell_type": "code",
   "execution_count": null,
   "metadata": {},
   "outputs": [],
   "source": [
    "# Iron Scimitar sample size, p estimator and q\n",
    "scim_row = combined_probability_df_length - 1\n",
    "scim_n, scim_p_hat = combined_probability_df.iloc[scim_row, 1], round(combined_probability_df.iloc[scim_row, 2], 6)\n",
    "scim_q = 1 - scim_p_hat\n",
    "\n",
    "print(\"--- Iron Scimitar --- \")\n",
    "display_parameters(scim_n, scim_p_hat, scim_q)"
   ]
  },
  {
   "cell_type": "code",
   "execution_count": null,
   "metadata": {},
   "outputs": [],
   "source": [
    "# visualize trend of p_hat as sample size n increases \n",
    "success_scatter = sns.relplot(x = \"Total Attacks\" ,\n",
    "                              y = \"p hat\",\n",
    "                              hue = \"Weapon Type\",\n",
    "                              data = combined_probability_df)\n",
    "\n",
    "success_scatter.set(xlabel = \"Total Attacks\",\n",
    "                    ylabel = \"Probability of a Successful Hit\")\n",
    "\n",
    "plt.xlim(5, None)\n",
    "plt.show()"
   ]
  },
  {
   "cell_type": "code",
   "execution_count": null,
   "metadata": {},
   "outputs": [],
   "source": [
    "# graph normal distributions \n",
    "\n",
    "# n = 4000 for equal sample size \n",
    "# means equal to np with standard devidation npq \n",
    "# calculate 2P(Z >= test stat)\n",
    "# test stat is (mu1 - mu2) / sqrt ((sd1 + sd2) / (n))\n"
   ]
  }
 ],
 "metadata": {
  "kernelspec": {
   "display_name": "Python 3",
   "language": "python",
   "name": "python3"
  },
  "language_info": {
   "codemirror_mode": {
    "name": "ipython",
    "version": 3
   },
   "file_extension": ".py",
   "mimetype": "text/x-python",
   "name": "python",
   "nbconvert_exporter": "python",
   "pygments_lexer": "ipython3",
   "version": "3.6.6"
  }
 },
 "nbformat": 4,
 "nbformat_minor": 2
}
