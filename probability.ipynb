{
 "cells": [
  {
   "cell_type": "code",
   "execution_count": 1,
   "metadata": {},
   "outputs": [],
   "source": [
    "import pandas as pd\n",
    "import numpy as np\n",
    "from scipy import stats\n",
    "import matplotlib.pyplot as plt\n",
    "import seaborn as sns\n",
    "import math"
   ]
  },
  {
   "cell_type": "code",
   "execution_count": 2,
   "metadata": {},
   "outputs": [],
   "source": [
    "# create a dataframe containing the successful number of hits, the sample size (n) and an estimator for p (p_hat)\n",
    "# where p_hat is an estimate for the probability of hitting a 1 with either an Event RPG or Iron Scimitar\n",
    "def get_probability_df(df, weapon_type):\n",
    "    attack_speed = {   \"Event RPG\"   : 1.8,  # Event RPG attacks once every 1.8s \n",
    "                     \"Iron Scimitar\" : 2.4 } # Iron Scimitar attacks once every 2.4s\n",
    "    \n",
    "    successful_attacks = df.loc[1:, \"Exp Gained\"].to_numpy() / 4\n",
    "    total_attacks = df.loc[1:, \"Time (min)\"].to_numpy() * 60 / attack_speed[weapon_type]\n",
    "    total_attacks = [math.floor(attacks) for attacks in total_attacks]\n",
    "    p_hat = successful_attacks / total_attacks\n",
    "    \n",
    "    d = { \"Successful Attacks\" : successful_attacks,\n",
    "          \"Total Attacks\"      : total_attacks,\n",
    "          \"p hat\"              : p_hat }\n",
    "    \n",
    "    probability_df = pd.DataFrame(data = d)\n",
    "    probability_df[\"Weapon\"] = weapon_type\n",
    "    \n",
    "    return probability_df\n",
    "\n",
    "def display_parameters(n, p, q):\n",
    "    print(\"    n:\", n)\n",
    "    print(\"p_hat:\", p)\n",
    "    print(\"    q:\", q)\n",
    "    \n",
    "# pooled test statistic\n",
    "def calculate_test_statistic(n1, n2, p1, p2):\n",
    "    p = (((n1) * (p1)) + ((n2) * (p2))) / (n1 + n2)\n",
    "    sigma = math.sqrt(p * (1 - p) * ((1 / n1) + (1 / n2)))\n",
    "    \n",
    "    z  = (p1 - p2) / sigma\n",
    "    rounded_z = round(z, 6)\n",
    "    \n",
    "    return rounded_z"
   ]
  },
  {
   "cell_type": "code",
   "execution_count": 3,
   "metadata": {},
   "outputs": [],
   "source": [
    "# load processed data\n",
    "combined_df = pd.read_csv(\"data/combined_data.csv\")"
   ]
  },
  {
   "cell_type": "code",
   "execution_count": 4,
   "metadata": {},
   "outputs": [],
   "source": [
    "# transform data \n",
    "section_length = len(combined_df) // 4\n",
    "trimmed_rpg_df = combined_df.iloc[:section_length, :].drop(\"Exp Type\", axis = 1)\n",
    "trimmed_scim_df = combined_df.iloc[section_length * 2 + 1:section_length * 3, :].drop(\"Exp Type\", axis = 1)\n",
    "\n",
    "# calculate and add the probabilities of hitting a 1 to the dataframes\n",
    "rpg_probability_df = get_probability_df(trimmed_rpg_df, \"Event RPG\")\n",
    "scim_probability_df = get_probability_df(trimmed_scim_df, \"Iron Scimitar\")\n",
    "\n",
    "# transform data for visualization\n",
    "combined_probability_df = rpg_probability_df.append(scim_probability_df)\n",
    "combined_probability_df_length = int(len(combined_probability_df))"
   ]
  },
  {
   "cell_type": "code",
   "execution_count": 5,
   "metadata": {},
   "outputs": [],
   "source": [
    "# write processed data to csv\n",
    "combined_probability_df.to_csv(\"data/combined_probability_data.csv\", index = False)"
   ]
  },
  {
   "cell_type": "code",
   "execution_count": 6,
   "metadata": {},
   "outputs": [],
   "source": [
    "# load processed data\n",
    "combined_probability_df = pd.read_csv(\"data/combined_probability_data.csv\")"
   ]
  },
  {
   "cell_type": "code",
   "execution_count": 7,
   "metadata": {},
   "outputs": [
    {
     "name": "stdout",
     "output_type": "stream",
     "text": [
      "--- Event RPG --- \n",
      "    n: 6000\n",
      "p_hat: 0.190167\n",
      "    q: 0.809833\n"
     ]
    }
   ],
   "source": [
    "# Event RPG sample size (n), p estimator (p_hat) and q\n",
    "rpg_row = combined_probability_df_length // 2 - 1\n",
    "rpg_n, rpg_p = combined_probability_df.iloc[rpg_row, 1], round(combined_probability_df.iloc[rpg_row, 2], 6)\n",
    "rpg_q = 1 - rpg_p\n",
    "\n",
    "print(\"--- Event RPG --- \")\n",
    "display_parameters(rpg_n, rpg_p, rpg_q)"
   ]
  },
  {
   "cell_type": "code",
   "execution_count": 8,
   "metadata": {},
   "outputs": [
    {
     "name": "stdout",
     "output_type": "stream",
     "text": [
      "--- Iron Scimitar --- \n",
      "    n: 4500\n",
      "p_hat: 0.214889\n",
      "    q: 0.785111\n"
     ]
    }
   ],
   "source": [
    "# Iron Scimitar sample size, p estimator and q\n",
    "scim_row = combined_probability_df_length - 1\n",
    "scim_n, scim_p = combined_probability_df.iloc[scim_row, 1], round(combined_probability_df.iloc[scim_row, 2], 6)\n",
    "scim_q = 1 - scim_p\n",
    "\n",
    "print(\"--- Iron Scimitar --- \")\n",
    "display_parameters(scim_n, scim_p, scim_q)"
   ]
  },
  {
   "cell_type": "code",
   "execution_count": 9,
   "metadata": {},
   "outputs": [
    {
     "data": {
      "image/png": "[encoded data removed]",
      "text/plain": [
       "<Figure size 459.75x360 with 1 Axes>"
      ]
     },
     "metadata": {
      "needs_background": "light"
     },
     "output_type": "display_data"
    }
   ],
   "source": [
    "# visualize trend of p_hat as sample size n increases \n",
    "success_scatter = sns.relplot(x = \"Total Attacks\" ,\n",
    "                              y = \"p hat\",\n",
    "                              hue = \"Weapon\",\n",
    "                              data = combined_probability_df)\n",
    "\n",
    "success_scatter.set(xlabel = \"Total Attacks\",\n",
    "                    ylabel = \"Probability of a Successful Hit\")\n",
    "\n",
    "plt.xlim(5, None)\n",
    "plt.show()"
   ]
  },
  {
   "cell_type": "code",
   "execution_count": 10,
   "metadata": {},
   "outputs": [
    {
     "data": {
      "text/plain": [
       "-3.129622"
      ]
     },
     "execution_count": 10,
     "metadata": {},
     "output_type": "execute_result"
    }
   ],
   "source": [
    "# Let R and S denote the number of successful hits using the Event RPG and Iron Scimitar respectively\n",
    "# R ~ binomial(6000, 0.1905) \n",
    "# S ~ binomial(4500, 0.214889)\n",
    "\n",
    "z = calculate_test_statistic(rpg_n, scim_n, rpg_p, scim_p)\n",
    "z"
   ]
  },
  {
   "cell_type": "code",
   "execution_count": 11,
   "metadata": {},
   "outputs": [],
   "source": [
    "# graph normal distributions \n",
    "\n",
    "# n = 4000 for equal sample size \n",
    "# means equal to np with standard deviation npq \n",
    "# calculate 2P(Z >= test stat)\n",
    "# test stat is (mu1 - mu2) / sqrt ((sd1 + sd2) / (n))\n"
   ]
  }
 ],
 "metadata": {
  "kernelspec": {
   "display_name": "Python 3",
   "language": "python",
   "name": "python3"
  },
  "language_info": {
   "codemirror_mode": {
    "name": "ipython",
    "version": 3
   },
   "file_extension": ".py",
   "mimetype": "text/x-python",
   "name": "python",
   "nbconvert_exporter": "python",
   "pygments_lexer": "ipython3",
   "version": "3.6.6"
  }
 },
 "nbformat": 4,
 "nbformat_minor": 2
}
