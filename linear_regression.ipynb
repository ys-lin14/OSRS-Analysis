{
 "cells": [
  {
   "cell_type": "code",
   "execution_count": 1,
   "metadata": {},
   "outputs": [],
   "source": [
    "import pandas as pd\n",
    "import numpy as np\n",
    "import matplotlib.pyplot as plt\n",
    "import seaborn as sns\n",
    "from scipy import stats"
   ]
  },
  {
   "cell_type": "code",
   "execution_count": null,
   "metadata": {},
   "outputs": [],
   "source": [
    "def get_linreg_XY(df, exp_type):\n",
    "    X = np.ones((len(df), 2), np.uint64)\n",
    "    X[:, 1] = df.iloc[:, 0]\n",
    "    \n",
    "    exp_type_to_col = { \"defence\"  : \"Def Exp Gained\",\n",
    "                        \"hitpoint\" : \"HP Exp Gained\" }\n",
    "    col = exp_type_to_col[exp_type]\n",
    "    Y = df[col].values\n",
    "    \n",
    "    return X, Y\n",
    "    \n",
    "def linear_regression(X, Y):  \n",
    "    Xt = X.transpose()\n",
    "    \n",
    "    # compute beta = (X^t . X)^-1 . X^t . Y\n",
    "    coefficients = ((np.linalg.inv(Xt.dot(X))).dot(Xt)).dot(Y)\n",
    "    coefficients[0], coefficients[1] = coefficients[1], coefficients[0]\n",
    "    \n",
    "    return coefficients\n",
    "\n",
    "def get_graph_df(df):\n",
    "    exp_type = np.zeros(len(df))\n",
    "    d1 = { \"Time (min)\" : df[\"Time (min)\"],\n",
    "           \"Exp Gained\" : df[\"Def Exp Gained\"],\n",
    "           \"Exp Type\"   : exp_type } # initialize exp type column\n",
    "    defence_df = pd.DataFrame(data = d1)\n",
    "    defence_df.iloc[:, 2] = \"defence\" # declare exp type column\n",
    "\n",
    "    d2 = { \"Time (min)\" : df[\"Time (min)\"],\n",
    "           \"Exp Gained\" : df[\"HP Exp Gained\"],\n",
    "           \"Exp Type\"   : exp_type }\n",
    "    hitpoint_df = pd.DataFrame(data = d2)\n",
    "    hitpoint_df.iloc[:, 2] = \"hitpoint\"\n",
    "\n",
    "    graph_df = defence_df.append(hitpoint_df)\n",
    "    \n",
    "    return graph_df"
   ]
  },
  {
   "cell_type": "code",
   "execution_count": 2,
   "metadata": {},
   "outputs": [],
   "source": [
    "# load data\n",
    "exp_df = pd.read_csv(\"data.csv\")"
   ]
  },
  {
   "cell_type": "code",
   "execution_count": 3,
   "metadata": {},
   "outputs": [],
   "source": [
    "# prepare data for linear regression\n",
    "X_defence, Y_defence = get_linreg_XY(exp_df, \"defence\")\n",
    "X_hitpoint, Y_hitpoint = get_linreg_XY(exp_df, \"hitpoint\")\n",
    "X_stats_regress = exp_df.iloc[:, 0]"
   ]
  },
  {
   "cell_type": "code",
   "execution_count": 4,
   "metadata": {},
   "outputs": [
    {
     "name": "stdout",
     "output_type": "stream",
     "text": [
      "Defence EXP\n",
      "Slope and x-intercept using matricies:  [25.31087719 -3.87368421]\n",
      "Slope and x-intercept using SciPy stats:  (25.310877192982453, -3.873684210526335)\n",
      "\n",
      "Hitpoint EXP\n",
      "Slope and x-intercept using matricies:  [ 8.41586667 -1.288     ]\n",
      "Slope and x-intercept using SciPy stats:  (8.415866666666666, -1.2879999999998972)\n"
     ]
    }
   ],
   "source": [
    "defence_coefficients = linear_regression(X_defence, Y_defence)\n",
    "defence_stats_coefficients = stats.linregress(X_stats_regress, Y_defence)\n",
    "\n",
    "print(\"Defence EXP\")\n",
    "print(\"Slope and x-intercept using matricies: \", defence_coefficients)\n",
    "print(\"Slope and x-intercept using SciPy stats: \", defence_stats_coefficients[0:2])\n",
    "\n",
    "hitpoint_coefficients = linear_regression(X_hitpoint, Y_hitpoint)\n",
    "hitpoint_stats_coefficients = stats.linregress(X_stats_regress, Y_hitpoint)\n",
    "\n",
    "print(\"\\nHitpoint EXP\")\n",
    "print(\"Slope and x-intercept using matricies: \", hitpoint_coefficients)\n",
    "print(\"Slope and x-intercept using SciPy stats: \", hitpoint_stats_coefficients[0:2])"
   ]
  },
  {
   "cell_type": "code",
   "execution_count": 17,
   "metadata": {},
   "outputs": [],
   "source": [
    "# prepare data for visualization\n",
    "graph_df = get_graph_df(exp_df)\n",
    "    # write to csv"
   ]
  },
  {
   "cell_type": "code",
   "execution_count": 6,
   "metadata": {},
   "outputs": [
    {
     "data": {
      "image/png": "[encoded data removed]",
      "text/plain": [
       "<Figure size 441.734x360 with 1 Axes>"
      ]
     },
     "metadata": {
      "needs_background": "light"
     },
     "output_type": "display_data"
    }
   ],
   "source": [
    "# visualize data\n",
    "exp_scatter = sns.relplot(x = \"Time (min)\", y = \"Exp Gained\", hue = \"Exp Type\", data = graph_df)\n",
    "exp_scatter.set(title = \"Time vs. Experience Gained\",\n",
    "                       xlabel = \"Time (min)\",\n",
    "                       xticks = graph_df.iloc[1:len(graph_df) // 2 :2, 0],\n",
    "                       ylabel = \"Experience\",\n",
    "                       yticks = range(0, 5000, 500))\n",
    "\n",
    "plt.show()"
   ]
  },
  {
   "cell_type": "code",
   "execution_count": 18,
   "metadata": {},
   "outputs": [],
   "source": [
    "# help(pd.DataFrame.to_csv)"
   ]
  }
 ],
 "metadata": {
  "kernelspec": {
   "display_name": "Python 3",
   "language": "python",
   "name": "python3"
  },
  "language_info": {
   "codemirror_mode": {
    "name": "ipython",
    "version": 3
   },
   "file_extension": ".py",
   "mimetype": "text/x-python",
   "name": "python",
   "nbconvert_exporter": "python",
   "pygments_lexer": "ipython3",
   "version": "3.6.6"
  }
 },
 "nbformat": 4,
 "nbformat_minor": 2
}
