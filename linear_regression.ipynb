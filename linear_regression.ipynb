{
 "cells": [
  {
   "cell_type": "code",
   "execution_count": 1,
   "metadata": {},
   "outputs": [],
   "source": [
    "import pandas as pd\n",
    "import numpy as np\n",
    "import matplotlib.pyplot as plt\n",
    "import seaborn as sns\n",
    "from scipy import stats"
   ]
  },
  {
   "cell_type": "code",
   "execution_count": 15,
   "metadata": {},
   "outputs": [],
   "source": [
    "# linear regression using ordinary least squares \n",
    "def linear_regression(x, y):  \n",
    "    X = np.ones((len(x), 2), np.uint64)\n",
    "    X[:, 1] = x\n",
    "    Xt = X.transpose()\n",
    "    \n",
    "    # compute beta = (X^t . X)^-1 . X^t . Y\n",
    "    coefficients = ((np.linalg.inv(Xt.dot(X))).dot(Xt)).dot(y)\n",
    "    coefficients[0], coefficients[1] = coefficients[1], coefficients[0]\n",
    "    \n",
    "    return coefficients\n",
    "\n",
    "# format defence and hitpoint experience\n",
    "def process_df(df):\n",
    "    exp_type = np.zeros(len(df))\n",
    "    \n",
    "    d1 = { \"Time (min)\" : df[\"Time (min)\"],\n",
    "           \"Exp Gained\" : df[\"Def Exp Gained\"],\n",
    "           \"Exp Type\"   : exp_type } # initialize exp type column\n",
    "    defence_df = pd.DataFrame(data = d1)\n",
    "    defence_df.iloc[:, 2] = \"defence\" # declare exp type column\n",
    "\n",
    "    d2 = { \"Time (min)\" : df[\"Time (min)\"],\n",
    "           \"Exp Gained\" : df[\"HP Exp Gained\"],\n",
    "           \"Exp Type\"   : exp_type }\n",
    "    hitpoint_df = pd.DataFrame(data = d2)\n",
    "    hitpoint_df.iloc[:, 2] = \"hitpoint\"\n",
    "\n",
    "    processed_df = defence_df.append(hitpoint_df)\n",
    "\n",
    "    return processed_df\n",
    "\n",
    "# return the Y values needed for linear regression \n",
    "def get_linreg_Y(df):\n",
    "    section_length = len(df) // 2\n",
    "    Y = df.iloc[section_length:, 1].values\n",
    "    \n",
    "    return Y\n",
    "\n",
    "# return a dataframe containing copies of dataframes 1 and 2 - the Event RPG dataframe must go first\n",
    "def combine_df(df1, df2):\n",
    "    df1_copy = df1.copy()\n",
    "    df2_copy = df2.copy()\n",
    "    \n",
    "    df1_copy[\"Weapon\"], df2_copy[\"Weapon\"] = np.zeros(len(df1)), np.zeros(len(df1))\n",
    "    df1_copy.loc[:, \"Weapon\"] = \"Event RPG\"\n",
    "    df2_copy.loc[:, \"Weapon\"] = \"Iron Scimitar\"\n",
    "    \n",
    "    combined_df = df1_copy.append(df2_copy)\n",
    "    \n",
    "    return combined_df  \n",
    "\n",
    "# calculate the number of hours required to reach final_exp given the initial_exp and coefficients\n",
    "def extrapolate_time(initial_exp, final_exp, coefficients):\n",
    "    exp_required = final_exp - initial_exp\n",
    "    \n",
    "    time = round((exp_required - coefficients[1]) / coefficients[0] / 60)\n",
    "    \n",
    "    return time\n",
    "\n",
    "def display_coefficients(exp_type, coefficients, linregress_results):\n",
    "    print(exp_type)\n",
    "    print(\"Slope and x-intercept using matricies:\", coefficients)\n",
    "    print(\"Slope and x-intercept using SciPy stats:\", linregress_results[0:2])\n",
    "    \n",
    "def display_correlation_coefficient(exp_type, linregress_results):\n",
    "    print(\"The\", exp_type, \"correlation coefficient is\", linregress_results[2])\n",
    "    \n",
    "def display_time_required(weapon, time_required):\n",
    "    print(time_required, \"hours are needed to reach level 75 Defence using the\", weapon)  "
   ]
  },
  {
   "cell_type": "code",
   "execution_count": 3,
   "metadata": {},
   "outputs": [],
   "source": [
    "# load preprocessed data\n",
    "rpg_df = pd.read_csv(\"data/rpg_data.csv\")\n",
    "scim_df = pd.read_csv(\"data/scim_data.csv\")"
   ]
  },
  {
   "cell_type": "code",
   "execution_count": 4,
   "metadata": {},
   "outputs": [],
   "source": [
    "# process data\n",
    "processed_rpg_df = process_df(rpg_df)\n",
    "processed_scim_df = process_df(scim_df)\n",
    "combined_df = combine_df(processed_rpg_df, processed_scim_df)"
   ]
  },
  {
   "cell_type": "code",
   "execution_count": 5,
   "metadata": {},
   "outputs": [],
   "source": [
    "# write processed data to csv\n",
    "combined_df.to_csv(\"data/combined_data.csv\", index = False)"
   ]
  },
  {
   "cell_type": "code",
   "execution_count": 6,
   "metadata": {},
   "outputs": [],
   "source": [
    "# load processed data\n",
    "combined_df = pd.read_csv(\"data/combined_data.csv\")"
   ]
  },
  {
   "cell_type": "code",
   "execution_count": 7,
   "metadata": {},
   "outputs": [],
   "source": [
    "# transform data for linear regression\n",
    "section_length = len(combined_df) // 4\n",
    "time = np.arange(0, 190, 10)\n",
    "\n",
    "# sections\n",
    "s = np.arange(section_length, 5 * section_length, section_length)\n",
    "\n",
    "rpg_defence_exp, rpg_hitpoint_exp = combined_df.iloc[:s[0], 1], combined_df.iloc[s[0]:s[1], 1]\n",
    "scim_defence_exp, scim_hitpoint_exp = combined_df.iloc[s[1]:s[2], 1], combined_df.iloc[s[2]:s[3], 1]"
   ]
  },
  {
   "cell_type": "code",
   "execution_count": 16,
   "metadata": {},
   "outputs": [
    {
     "name": "stdout",
     "output_type": "stream",
     "text": [
      "--- Event RPG ---\n",
      "\n",
      " Defence EXP\n",
      "Slope and x-intercept using matricies: [25.31087719 -3.87368421]\n",
      "Slope and x-intercept using SciPy stats: (25.310877192982453, -3.873684210526335)\n",
      "\n",
      " Hitpoint EXP\n",
      "Slope and x-intercept using matricies: [ 8.41586667 -1.288     ]\n",
      "Slope and x-intercept using SciPy stats: (8.415866666666666, -1.2879999999998972)\n",
      "The Defence EXP correlation coefficient is 0.9998153806149918\n"
     ]
    }
   ],
   "source": [
    "# linear regression coefficients for the Event RPG\n",
    "rpg_defence_coefficients = linear_regression(time, rpg_defence_exp.values)\n",
    "rpg_defence_linregress_results = stats.linregress(time, rpg_defence_exp.values)\n",
    "rpg_hitpoint_coefficients = linear_regression(time, rpg_hitpoint_exp.values)\n",
    "rpg_hitpoint_linregress_results = stats.linregress(time, rpg_hitpoint_exp.values)\n",
    "\n",
    "print(\"--- Event RPG ---\")\n",
    "display_coefficients(\"Defence EXP\", rpg_defence_coefficients, rpg_defence_linregress_results)\n",
    "display_coefficients(\"Hitpoint EXP\", rpg_hitpoint_coefficients, rpg_hitpoint_linregress_results)\n",
    "\n",
    "display_correlation_coefficient(\"Defence EXP\", rpg_defence_linregress_results)"
   ]
  },
  {
   "cell_type": "code",
   "execution_count": null,
   "metadata": {},
   "outputs": [],
   "source": [
    "# linear regression coefficients for the iron scimitar\n",
    "scim_defence_coefficients = linear_regression(time, scim_defence_exp.values)\n",
    "scim_defence_linregress_results = stats.linregress(time, scim_defence_exp.values)\n",
    "scim_hitpoint_coefficients = linear_regression(time, scim_hitpoint_exp.values)\n",
    "scim_hitpoint_linregress_results = stats.linregress(time, scim_hitpoint_exp.values)\n",
    "\n",
    "print(\"--- Iron Scimitar ---\")\n",
    "display_coefficients(\"Defence EXP\", scim_defence_coefficients, scim_defence_linregress_results)\n",
    "display_coefficients(\"Hitpoint EXP\", scim_hitpoint_coefficients, scim_hitpoint_linregress_results)\n",
    "\n",
    "display_correlation_coefficient(scim_defence_linregress_results)"
   ]
  },
  {
   "cell_type": "code",
   "execution_count": null,
   "metadata": {},
   "outputs": [],
   "source": [
    "# visualize data\n",
    "exp_scatter = sns.relplot(x = \"Time (min)\", \n",
    "                          y = \"Exp Gained\",\n",
    "                          hue = \"Exp Type\", \n",
    "                          col = \"Weapon\",\n",
    "                          data = combined_df)\n",
    "\n",
    "exp_scatter.set(xlabel = \"Time (min)\",\n",
    "                ylabel = \"Experience\",\n",
    "                yticks = range(0, 5000, 500))\n",
    "\n",
    "plt.show()"
   ]
  },
  {
   "cell_type": "code",
   "execution_count": null,
   "metadata": {},
   "outputs": [],
   "source": [
    "# extrapolate to obtain the amount of time required to reach level 75 defence (1210421 exp) from 133685 exp\n",
    "rpg_time_required = extrapolate_time(133685, 1210421, rpg_defence_coefficients)\n",
    "display_time_required(\"Event RPG\", rpg_time_required)\n",
    "\n",
    "scim_time_required = extrapolate_time(133685, 1210421, scim_defence_coefficients)\n",
    "display_time_required(\"Iron Scimitar\", scim_time_required)"
   ]
  }
 ],
 "metadata": {
  "kernelspec": {
   "display_name": "Python 3",
   "language": "python",
   "name": "python3"
  },
  "language_info": {
   "codemirror_mode": {
    "name": "ipython",
    "version": 3
   },
   "file_extension": ".py",
   "mimetype": "text/x-python",
   "name": "python",
   "nbconvert_exporter": "python",
   "pygments_lexer": "ipython3",
   "version": "3.6.6"
  }
 },
 "nbformat": 4,
 "nbformat_minor": 2
}
