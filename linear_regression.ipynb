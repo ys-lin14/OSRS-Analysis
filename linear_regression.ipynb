{
 "cells": [
  {
   "cell_type": "code",
   "execution_count": 1,
   "metadata": {},
   "outputs": [],
   "source": [
    "import pandas as pd\n",
    "import numpy as np\n",
    "import matplotlib.pyplot as plt\n",
    "import seaborn as sns\n",
    "from scipy import stats"
   ]
  },
  {
   "cell_type": "code",
   "execution_count": 2,
   "metadata": {},
   "outputs": [],
   "source": [
    "def clean_df(df, weapon):    \n",
    "    \"\"\"Create a new dataframe that only contains necessary data\n",
    "    \n",
    "    Args:\n",
    "        df (dataframe): contains data from a single weapon\n",
    "        weapon (string): specifies which weapon data is contained\n",
    "        \n",
    "    Returns:\n",
    "        processed_df (dataframe):\n",
    "            data for the time, cumulative experience gained, \n",
    "            experience type and weapons used.\n",
    "    \"\"\"\n",
    "    \n",
    "    d1 = { 'time_(min)': df['time_(min)'],\n",
    "           'exp_gained': df['def_exp_gained'] }\n",
    "    defence_df = pd.DataFrame(data = d1)\n",
    "    defence_df['exp_type'] = \"defence\"\n",
    "\n",
    "    d2 = { 'time_(min)': df['time_(min)'],\n",
    "           'exp_gained': df['hp_exp_gained'] }\n",
    "    hitpoint_df = pd.DataFrame(data = d2)\n",
    "    hitpoint_df['exp_type'] = \"hitpoint\"\n",
    "\n",
    "    cleaned_df = defence_df.append(hitpoint_df)\n",
    "    cleaned_df['weapon'] = weapon\n",
    "\n",
    "    return cleaned_df\n",
    "\n",
    "def get_combined_df(df1, df2):\n",
    "    df1_copy, df2_copy = df1.copy(), df2.copy()    \n",
    "    combined_df = df1_copy.append(df2_copy)\n",
    "    \n",
    "    return combined_df \n",
    "\n",
    "def get_regression_inputs(df, weapon):\n",
    "    \"\"\"Get the linear regression inputs for the given weapon\n",
    "    \n",
    "    Args:\n",
    "        df: dataframe containing data from both weapons\n",
    "        weapon: string specifying which weapon data to return  \n",
    "        \n",
    "    Returns:\n",
    "        defence_input (array): \n",
    "            the cumulative defence experience for the given weapon             \n",
    "        hitpoint_input (array): \n",
    "            the cumulative hitpoint experience for the given weapon\n",
    "    \"\"\"\n",
    "    \n",
    "    weapon_df = df[df['weapon'] == weapon]\n",
    "    defence_input = weapon_df.loc[weapon_df['exp_type'] == \"defence\", \n",
    "                                  'exp_gained'].values\n",
    "    hitpoint_input = weapon_df.loc[weapon_df['exp_type'] == \"hitpoint\", \n",
    "                                   'exp_gained'].values\n",
    "\n",
    "    return defence_input, hitpoint_input\n",
    "\n",
    "def linear_regression(x, y):  \n",
    "    \"\"\"Perform linear regression using ordinary least squares\n",
    "    \n",
    "    Args:\n",
    "        x (array): contains the time\n",
    "        y (array): contains the cumulative experience obtained \n",
    "        \n",
    "    Returns:\n",
    "        coefficients (array):\n",
    "            the y-intercept and the slope of the best-fit line\n",
    "    \"\"\"\n",
    "    \n",
    "    X = np.ones((len(x), 2), np.uint64)\n",
    "    X[:, 1] = x\n",
    "    Xt = X.transpose()\n",
    "    \n",
    "    coefficients = ((np.linalg.inv(Xt.dot(X))).dot(Xt)).dot(y)\n",
    "    coefficients[0], coefficients[1] = coefficients[1], coefficients[0]\n",
    "    \n",
    "    return coefficients\n",
    "\n",
    "def get_regression_results(time, defence_exp, hitpoint_exp):\n",
    "    \"\"\"Get the results for defence and hitpoint exp from linear_regression \n",
    "    and linregress (Scipy's stats module)\n",
    "    \n",
    "    Args:\n",
    "        time (array): contains the time intervals\n",
    "        defence_exp (array): contains the cumulative defence experience\n",
    "        hitpoint_exp (array): contains the cumulative hitpoint experience\n",
    "        \n",
    "    Returns:\n",
    "        defence_coefficients (array): \n",
    "            linear regression coefficients for defence experience\n",
    "        defence_linregress_results (floats): \n",
    "            linregress results for defence experience\n",
    "        hitpoint_coefficients (array): \n",
    "            linear regression coefficients for hitpoint experience\n",
    "        hitpoint_linregress_results (floats):\n",
    "            linregress results for hiitpoint experience\n",
    "    \"\"\"\n",
    "    \n",
    "    defence_coefficients = linear_regression(time, defence_exp)\n",
    "    defence_linregress_results = stats.linregress(time, defence_exp)\n",
    "    hitpoint_coefficients = linear_regression(time, hitpoint_exp)\n",
    "    hitpoint_linregress_results = stats.linregress(time, hitpoint_exp)\n",
    "\n",
    "    return defence_coefficients, defence_linregress_results, \\\n",
    "           hitpoint_coefficients, hitpoint_linregress_results\n",
    "\n",
    "def display_regression_results(coefficients, weapon): \n",
    "    matrix_message = \"Slope and x-intercept using matricies:\"\n",
    "    scipy_message = \"Slope and x-intercept using SciPy stats:\"\n",
    "    \n",
    "    print(\"Linear regression results for the\", weapon)\n",
    "    print(\"Defence Exp\")\n",
    "    print(matrix_message, coefficients[0])\n",
    "    print(scipy_message, coefficients[1][0:2])\n",
    "    \n",
    "    print(\"\\nHitpoint Exp\")\n",
    "    print(matrix_message, coefficients[2])\n",
    "    print(scipy_message, coefficients[3][0:2])\n",
    "    \n",
    "    print(\"\\nThe correlation coefficient is\", coefficients[1][2])\n",
    "    \n",
    "# calculate the number of hours required to reach final_exp given the initial_exp and coefficients\n",
    "def calculate_time_required(initial_exp, final_exp, coefficients):\n",
    "    exp_required = final_exp - initial_exp\n",
    "    time = round((exp_required - coefficients[1]) / coefficients[0] / 60)\n",
    "    \n",
    "    return time\n",
    "    \n",
    "def display_time_required(weapon, time_required):\n",
    "    print(time_required, \"hours are needed to reach level 75 Defence using the\", weapon)  "
   ]
  },
  {
   "cell_type": "code",
   "execution_count": 3,
   "metadata": {},
   "outputs": [],
   "source": [
    "# load preprocessed data\n",
    "rpg_df = pd.read_csv('data/rpg_data.csv')\n",
    "scim_df = pd.read_csv('data/scim_data.csv')"
   ]
  },
  {
   "cell_type": "code",
   "execution_count": 4,
   "metadata": {},
   "outputs": [],
   "source": [
    "# process data\n",
    "processed_rpg_df = clean_df(rpg_df, \"Event RPG\")\n",
    "processed_scim_df = clean_df(scim_df, \"Iron Scimitar\")\n",
    "combined_df = get_combined_df(processed_rpg_df, processed_scim_df)"
   ]
  },
  {
   "cell_type": "code",
   "execution_count": 5,
   "metadata": {},
   "outputs": [],
   "source": [
    "# write processed data to csv\n",
    "combined_df.to_csv('data/combined_data.csv', index = False)"
   ]
  },
  {
   "cell_type": "code",
   "execution_count": 6,
   "metadata": {},
   "outputs": [],
   "source": [
    "# load processed data\n",
    "combined_df = pd.read_csv('data/combined_data.csv')"
   ]
  },
  {
   "cell_type": "code",
   "execution_count": 7,
   "metadata": {},
   "outputs": [],
   "source": [
    "# get linear regression inputs\n",
    "time = combined_df['time_(min)'].unique()\n",
    "\n",
    "rpg_inputs = get_regression_inputs(combined_df, \"Event RPG\")\n",
    "rpg_defence_exp, rpg_hitpoint_exp = rpg_inputs[0], rpg_inputs[1]\n",
    "\n",
    "scim_inputs = get_regression_inputs(combined_df, \"Iron Scimitar\")\n",
    "scim_defence_exp, scim_hitpoint_exp = scim_inputs[0], scim_inputs[1]"
   ]
  },
  {
   "cell_type": "code",
   "execution_count": 8,
   "metadata": {},
   "outputs": [
    {
     "name": "stdout",
     "output_type": "stream",
     "text": [
      "Linear regression results for the Event RPG\n",
      "Defence Exp\n",
      "Slope and x-intercept using matricies: [25.31087719 -3.87368421]\n",
      "Slope and x-intercept using SciPy stats: (25.310877192982453, -3.873684210526335)\n",
      "\n",
      "Hitpoint Exp\n",
      "Slope and x-intercept using matricies: [ 8.41586667 -1.288     ]\n",
      "Slope and x-intercept using SciPy stats: (8.415866666666666, -1.2879999999998972)\n",
      "\n",
      "The correlation coefficient is 0.9998153806149918\n"
     ]
    }
   ],
   "source": [
    "rpg_results = get_regression_results(time, rpg_defence_exp, rpg_hitpoint_exp)\n",
    "display_regression_results(rpg_results, \"Event RPG\")"
   ]
  },
  {
   "cell_type": "code",
   "execution_count": 9,
   "metadata": {},
   "outputs": [
    {
     "name": "stdout",
     "output_type": "stream",
     "text": [
      "Linear regression results for the Iron Scimitar\n",
      "Defence Exp\n",
      "Slope and x-intercept using matricies: [21.25333333 18.35789474]\n",
      "Slope and x-intercept using SciPy stats: (21.253333333333327, 18.35789473684258)\n",
      "\n",
      "Hitpoint Exp\n",
      "Slope and x-intercept using matricies: [7.06673333 6.104     ]\n",
      "Slope and x-intercept using SciPy stats: (7.066733333333333, 6.104000000000042)\n",
      "\n",
      "The correlation coefficient is 0.9998288328321021\n"
     ]
    }
   ],
   "source": [
    "scim_results = get_regression_results(time, scim_defence_exp, scim_hitpoint_exp)\n",
    "display_regression_results(scim_results, \"Iron Scimitar\")"
   ]
  },
  {
   "cell_type": "code",
   "execution_count": 10,
   "metadata": {},
   "outputs": [
    {
     "data": {
      "image/png": "[encoded data removed]",
      "text/plain": [
       "<Figure size 801.375x360 with 2 Axes>"
      ]
     },
     "metadata": {
      "needs_background": "light"
     },
     "output_type": "display_data"
    }
   ],
   "source": [
    "exp_scatter = sns.relplot(x = \"time_(min)\", \n",
    "                          y = \"exp_gained\",\n",
    "                          hue = \"exp_type\", \n",
    "                          col = \"weapon\",\n",
    "                          data = combined_df)\n",
    "\n",
    "exp_scatter.set(xlabel = \"time_(min)\",\n",
    "                ylabel = \"experience\",\n",
    "                yticks = range(0, 5000, 500))\n",
    "\n",
    "plt.ylim(0, None)\n",
    "plt.show()"
   ]
  },
  {
   "cell_type": "code",
   "execution_count": 11,
   "metadata": {},
   "outputs": [
    {
     "name": "stdout",
     "output_type": "stream",
     "text": [
      "709.0 hours are needed to reach level 75 Defence using the Event RPG\n",
      "844.0 hours are needed to reach level 75 Defence using the Iron Scimitar\n"
     ]
    }
   ],
   "source": [
    "# extrapolate and obtain the amount of time required to reach level 75 defence (1210421 exp) from 133685 exp\n",
    "rpg_time_required = calculate_time_required(133685, 1210421, rpg_results[0])\n",
    "display_time_required(\"Event RPG\", rpg_time_required)\n",
    "\n",
    "scim_time_required = calculate_time_required(133685, 1210421, scim_results[0])\n",
    "display_time_required(\"Iron Scimitar\", scim_time_required)"
   ]
  }
 ],
 "metadata": {
  "kernelspec": {
   "display_name": "Python 3",
   "language": "python",
   "name": "python3"
  },
  "language_info": {
   "codemirror_mode": {
    "name": "ipython",
    "version": 3
   },
   "file_extension": ".py",
   "mimetype": "text/x-python",
   "name": "python",
   "nbconvert_exporter": "python",
   "pygments_lexer": "ipython3",
   "version": "3.6.6"
  }
 },
 "nbformat": 4,
 "nbformat_minor": 2
}
